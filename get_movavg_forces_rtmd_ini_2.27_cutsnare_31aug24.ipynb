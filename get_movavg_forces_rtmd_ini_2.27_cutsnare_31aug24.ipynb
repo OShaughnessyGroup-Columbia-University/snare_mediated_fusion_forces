{
 "cells": [
  {
   "cell_type": "code",
   "execution_count": 18,
   "metadata": {},
   "outputs": [],
   "source": [
    "import numpy as np\n",
    "import matplotlib.pyplot as plt"
   ]
  },
  {
   "cell_type": "code",
   "execution_count": 19,
   "metadata": {},
   "outputs": [],
   "source": [
    "# Change the following to match the simulation data\n",
    "\n",
    "# 7 SNARE data\n",
    "\n",
    "nrod = 7\n",
    "rtmd_arr = [2.27]\n",
    "delta_h = [2.1]\n",
    "run_list = [[13]]\n",
    "seed_list = [[902]]\n",
    "t_hem_list = [[1499]]\n",
    "t_ihem_list = [[0]]\n",
    "t_fus_list = [[0]]\n",
    "\n",
    "\n",
    "folder_path = 'F:/fusion_forces/fixed_rad/cut_snare/'\n",
    "\n",
    "index = 0\n",
    "\n",
    "file_prefix = 'ves_ves_cutsnare_rtmd_ini_%.2f_deltah_%.2f_Nunzip_10.00_lp_0.50_nrod_%d_rod_r_0.38_dves_55.9_tension_0.05_'%(rtmd_arr[index],delta_h[index],nrod)\n",
    "path_prefix = folder_path + file_prefix\n",
    "run_arr = run_list[index]\n",
    "seed_arr = seed_list[index]\n",
    "t_hem_arr = t_hem_list[index]\n",
    "t_ihem_arr = t_ihem_list[index]\n",
    "t_fus_arr = t_fus_list[index]"
   ]
  },
  {
   "cell_type": "code",
   "execution_count": 20,
   "metadata": {},
   "outputs": [],
   "source": [
    "dt = 0.068/1000 # timestep in microseconds\n",
    "frame_dt = 20000 # in steps\n",
    "check_period = 200 # in steps"
   ]
  },
  {
   "cell_type": "markdown",
   "metadata": {},
   "source": [
    "# Function Definitions"
   ]
  },
  {
   "cell_type": "code",
   "execution_count": 21,
   "metadata": {},
   "outputs": [],
   "source": [
    "def get_tmd_pos(run, seed, t_start, t_stop):\n",
    "    \n",
    "    linker_up_dir = np.load(path_prefix+'run_%d_dir_up_%d.npy'%(run, seed), allow_pickle=True)\n",
    "    linker_dn_dir = np.load(path_prefix+'run_%d_dir_dn_%d.npy'%(run, seed), allow_pickle=True)\n",
    "    \n",
    "    linker_up_pos = np.load(path_prefix+'run_%d_ct_up_%d.npy'%(run, seed), allow_pickle=True) # in units of sigma\n",
    "    linker_dn_pos = np.load(path_prefix+'run_%d_ct_dn_%d.npy'%(run, seed), allow_pickle=True) # in units of sigma\n",
    "\n",
    "    tmd_up_pos = - linker_up_dir + linker_up_pos\n",
    "    tmd_dn_pos = - linker_dn_dir + linker_dn_pos\n",
    "\n",
    "    tmd_up_pos = tmd_up_pos[t_start:t_stop, ...]\n",
    "    tmd_dn_pos = tmd_dn_pos[t_start:t_stop, ...]\n",
    "    \n",
    "    tmd_up_pos = tmd_up_pos*0.88\n",
    "    tmd_dn_pos = tmd_dn_pos*0.88 # in nm\n",
    "\n",
    "    return tmd_up_pos, tmd_dn_pos"
   ]
  },
  {
   "cell_type": "code",
   "execution_count": 22,
   "metadata": {},
   "outputs": [],
   "source": [
    "def get_linker_force_cart(run, seed, t_start, t_stop):\n",
    "   \n",
    "    # Load linker forces\n",
    "    linker_up_f_comp = np.load(path_prefix+'run_%d_force_up_%d.npy'%(run, seed), allow_pickle=True)\n",
    "    linker_dn_f_comp = np.load(path_prefix+'run_%d_force_dn_%d.npy'%(run, seed), allow_pickle=True)\n",
    "    linker_up_f_comp = linker_up_f_comp[t_start:t_stop, ...]\n",
    "    linker_dn_f_comp = linker_dn_f_comp[t_start:t_stop, ...]\n",
    "    linker_up_f_comp = -linker_up_f_comp*0.6*4.1/0.88 # in pN\n",
    "    linker_dn_f_comp = -linker_dn_f_comp*0.6*4.1/0.88 # in pN\n",
    "    linker_up_f = np.linalg.norm(linker_up_f_comp, axis=2)\n",
    "    linker_dn_f = np.linalg.norm(linker_dn_f_comp, axis=2)\n",
    "    \n",
    "    return linker_up_f, linker_dn_f, linker_up_f_comp, linker_dn_f_comp # in pN"
   ]
  },
  {
   "cell_type": "code",
   "execution_count": 23,
   "metadata": {},
   "outputs": [],
   "source": [
    "def get_snare_force_tot(run, seed, t_start, t_stop):\n",
    "    \n",
    "    # Load SNARE COM forces (including linker forces)\n",
    "    snare_data = np.load(path_prefix+'run_%d_snare_force_%d.npy'%(run, seed), allow_pickle=True)\n",
    "    snare_data = snare_data[t_start:t_stop, ...]\n",
    "    # Convert SNARE COM forces to pN\n",
    "    snare_data = snare_data*0.6*4.1/0.88\n",
    "    \n",
    "    return snare_data # in pN"
   ]
  },
  {
   "cell_type": "code",
   "execution_count": 24,
   "metadata": {},
   "outputs": [],
   "source": [
    "def get_snare_entropic_force(snare_data, linker_up_f_comp, linker_dn_f_comp):\n",
    "    snare_f = snare_data[:] - linker_up_f_comp[:] - linker_dn_f_comp[:] # Compute total force on the SNARE, excluding linker forces (in pN)\n",
    "    return snare_f"
   ]
  },
  {
   "cell_type": "code",
   "execution_count": 25,
   "metadata": {},
   "outputs": [],
   "source": [
    "def get_ring_center(snare_ctd_pos):\n",
    "    # Find the centroid of the SNARE CTDs\n",
    "    snare_ctd_centroid = np.mean(snare_ctd_pos, axis=1)\n",
    "    return snare_ctd_centroid"
   ]
  },
  {
   "cell_type": "code",
   "execution_count": 26,
   "metadata": {},
   "outputs": [],
   "source": [
    "def get_cterm_pos(run, seed, t_start, t_stop):\n",
    "    \n",
    "    # Load linker positions for all other snares\n",
    "    linker_up_pos = np.load(path_prefix+'run_%d_ct_up_%d.npy'%(run, seed), allow_pickle=True) # in units of sigma\n",
    "    linker_dn_pos = np.load(path_prefix+'run_%d_ct_dn_%d.npy'%(run, seed), allow_pickle=True) # in units of sigma\n",
    "    linker_up_pos = linker_up_pos[t_start:t_stop, ...]\n",
    "    linker_dn_pos = linker_dn_pos[t_start:t_stop, ...]\n",
    "\n",
    "    # Find the mean position of the CTD for each snare\n",
    "    snare_ctd_pos = (linker_up_pos + linker_dn_pos)/2 * 0.88 # in nm\n",
    "    snare_ctd_pos_avg = np.mean(snare_ctd_pos, axis=0) # in nm\n",
    "    \n",
    "    return snare_ctd_pos, snare_ctd_pos_avg"
   ]
  },
  {
   "cell_type": "code",
   "execution_count": 27,
   "metadata": {},
   "outputs": [],
   "source": [
    "def get_ring_radius(snare_ctd_pos, snare_ctd_centroid):\n",
    "    # Compute the distance of each SNARE CTD from the centroid\n",
    "    snare_r_centroid = snare_ctd_pos - snare_ctd_centroid[:, np.newaxis, :]\n",
    "    # Compute the magnitude of the distance of each SNARE CTD from the centroid (in nm)\n",
    "    snare_r_centroid_magn = np.sqrt(snare_r_centroid[..., 0]**2 + snare_r_centroid[..., 1]**2)\n",
    "    #snare_r_centroid_magn = snare_r_centroid_magn*0.88 # in nm\n",
    "    # compute the mean ring radius\n",
    "    #snare_r_centroid_magn_mean = np.mean(snare_r_centroid_magn, axis=0)\n",
    "    #snare_r_centroid_magn_std = np.std(snare_r_centroid_magn, axis=0)\n",
    "    #snare_r_maxmin = np.max(snare_r_centroid_magn, axis=0)/np.min(snare_r_centroid_magn, axis=0)\n",
    "    #return snare_r_centroid_magn_mean, snare_r_centroid_magn_std, snare_r_maxmin\n",
    "    return snare_r_centroid_magn"
   ]
  },
  {
   "cell_type": "code",
   "execution_count": 28,
   "metadata": {},
   "outputs": [],
   "source": [
    "def get_linker_norm(run, seed, t_start, t_stop):\n",
    "    \n",
    "    # Load linker direction vectors (in units of sigma)\n",
    "    linker_up_dir = np.load(path_prefix+'run_%d_dir_up_%d.npy'%(run, seed), allow_pickle=True)\n",
    "    linker_dn_dir = np.load(path_prefix+'run_%d_dir_dn_%d.npy'%(run, seed), allow_pickle=True)\n",
    "    linker_up_dir = linker_up_dir[t_start:t_stop, ...]\n",
    "    linker_dn_dir = linker_dn_dir[t_start:t_stop, ...]\n",
    "    #print(linker_up_dir.shape)\n",
    "    #print(linker_dn_dir.shape)\n",
    "    \n",
    "    # Compute the linker vector magnitudes (in units of sigma)\n",
    "    linker_up_magn = np.linalg.norm(linker_up_dir, axis=2, keepdims=True)\n",
    "    linker_dn_magn = np.linalg.norm(linker_dn_dir, axis=2, keepdims=True)\n",
    "   \n",
    "    # Check that both linker_up_dir and linker_dn_dir are pointing from CTD to TMD\n",
    "    # z_TMD - z_CTD > 0 for the up linkers, so linker_up_dir[2] should be positive\n",
    "    # z_TMD - z_CTD < 0 for the dn linkers, so linker_dn_dir[2] should be negative\n",
    "    if np.mean(linker_up_dir[:10,:,2]) < 0: \n",
    "        #print('Inverting linker_up_dir')\n",
    "        linker_up_dir = -linker_up_dir\n",
    "    if np.mean(linker_dn_dir[:10,:,2]) > 0: \n",
    "        #print('Inverting linker_dn_dir')\n",
    "        linker_dn_dir = -linker_dn_dir\n",
    "\n",
    "    # Compute the linker unit vectors (pointing from CTD to TMD)\n",
    "    linker_up_dir_norm = linker_up_dir / (linker_up_magn + 1e-10) # add 1e-10 to avoid division by zero\n",
    "    linker_dn_dir_norm = linker_dn_dir / (linker_dn_magn + 1e-10) # add 1e-10 to avoid division by zero\n",
    "\n",
    "    return linker_up_dir_norm, linker_dn_dir_norm"
   ]
  },
  {
   "cell_type": "code",
   "execution_count": 29,
   "metadata": {},
   "outputs": [],
   "source": [
    "def get_polar_dir(tmd_pos_avg, ori):\n",
    "\n",
    "    ori = get_ring_center(tmd_pos_avg)\n",
    "    \n",
    "    # Translate linker COM positions relative to the new origin\n",
    "    tmd_pos_avg = tmd_pos_avg - ori[:, None, :]\n",
    "    \n",
    "    # Get unit vectors for the r and theta directions for each SNARE\n",
    "    rx = tmd_pos_avg[..., 0]/np.sqrt(tmd_pos_avg[..., 0]**2 + tmd_pos_avg[..., 1]**2)\n",
    "    ry = tmd_pos_avg[..., 1]/np.sqrt(tmd_pos_avg[..., 0]**2 + tmd_pos_avg[..., 1]**2)\n",
    "\n",
    "    thetax = -ry\n",
    "    thetay = rx\n",
    "\n",
    "    return rx, ry, thetax, thetay"
   ]
  },
  {
   "cell_type": "code",
   "execution_count": 30,
   "metadata": {},
   "outputs": [],
   "source": [
    "def get_polar_force(snare_f_x, snare_f_y, snare_f_z, rx, ry, thetax, thetay):\n",
    "    \n",
    "    # Compute the force components in the r and theta directions\n",
    "    snare_f_r = snare_f_x*rx + snare_f_y*ry\n",
    "    snare_f_theta = snare_f_x*thetax + snare_f_y*thetay\n",
    "    return snare_f_r, snare_f_theta, snare_f_z"
   ]
  },
  {
   "cell_type": "code",
   "execution_count": 31,
   "metadata": {},
   "outputs": [],
   "source": [
    "def get_polar_pos(snare_ctd_pos, rx, ry, thetax, thetay):\n",
    "    \n",
    "    # Get unit vectors for the r and theta directions for each SNARE\n",
    "    r = snare_ctd_pos[..., 0]*rx + snare_ctd_pos[..., 1]*ry\n",
    "    theta = snare_ctd_pos[..., 0]*thetax + snare_ctd_pos[..., 1]*thetay\n",
    "\n",
    "    return r, theta"
   ]
  },
  {
   "cell_type": "code",
   "execution_count": 32,
   "metadata": {},
   "outputs": [],
   "source": [
    "from scipy.signal import correlate\n",
    "\n",
    "def autocorr(x):\n",
    "    \n",
    "    #Normalize the result to have it range from -1 to 1, so the autocorrelation at lag 0 is exactly 1\n",
    "    norm = np.sum(x ** 2)\n",
    "    \n",
    "    # The 'same' mode returns the central part of the correlation\n",
    "    # that is the same size as the input signal.\n",
    "    acf = correlate(x, x, mode='same') / norm\n",
    "    \n",
    "    # Since the result includes negative lags, we only want the second half\n",
    "    # which corresponds to the positive lags (including lag 0 at the center)\n",
    "    acf = acf[acf.size // 2:]\n",
    "    return acf"
   ]
  },
  {
   "cell_type": "markdown",
   "metadata": {},
   "source": [
    "# Calculations"
   ]
  },
  {
   "cell_type": "code",
   "execution_count": 33,
   "metadata": {},
   "outputs": [],
   "source": [
    "snare_f_x_arr_all = []\n",
    "snare_f_y_arr_all = []\n",
    "snare_f_z_arr_all = []\n",
    "snare_data_x_arr_all = []\n",
    "snare_data_y_arr_all = []\n",
    "snare_data_z_arr_all = []\n",
    "linker_up_f_x_arr_all = []\n",
    "linker_up_f_y_arr_all = []\n",
    "linker_up_f_z_arr_all = []\n",
    "linker_dn_f_x_arr_all = []\n",
    "linker_dn_f_y_arr_all = []\n",
    "linker_dn_f_z_arr_all = []\n",
    "linker_up_arr_all = []\n",
    "linker_dn_arr_all = []\n",
    "snare_ctd_pos_arr_all = []\n",
    "snare_ctd_pos_avg_arr = []\n",
    "tmd_pos_up_arr = []\n",
    "tmd_pos_dn_arr = []\n",
    "\n",
    "ring_radius_arr = []\n",
    "ring_radius_std_arr = []\n",
    "#ring_radius_maxmin_arr = []\n",
    "n_measurements_arr = []"
   ]
  },
  {
   "cell_type": "code",
   "execution_count": 34,
   "metadata": {},
   "outputs": [
    {
     "name": "stdout",
     "output_type": "stream",
     "text": [
      "run = 13, seed = 902\n"
     ]
    }
   ],
   "source": [
    "for i in range(len(run_arr)):\n",
    "    run = run_arr[i]\n",
    "    seed = seed_arr[i]\n",
    "    print('run = %d, seed = %d'%(run, seed))\n",
    "\n",
    "    frame_start = 0\n",
    "    frame_stop = t_hem_arr[i]\n",
    "\n",
    "    t_start = int((frame_start)*frame_dt/check_period)\n",
    "    t_stop = int((frame_stop-1)*frame_dt/check_period)\n",
    "\n",
    "    linker_up_f_all, linker_dn_f_all, linker_up_f_comp_all, linker_dn_f_comp_all = get_linker_force_cart(run, seed, t_start, t_stop)\n",
    "    snare_data_all = get_snare_force_tot(run, seed, t_start, t_stop)\n",
    "    snare_f_all = get_snare_entropic_force(snare_data_all, linker_up_f_comp_all, linker_dn_f_comp_all)\n",
    "    snare_ctd_pos, snare_ctd_pos_avg = get_cterm_pos(run, seed, t_start, t_stop)\n",
    "    tmd_pos_up, tmd_pos_dn = get_tmd_pos(run, seed, t_start, t_stop)\n",
    "    tmd_pos_avg = (tmd_pos_up + tmd_pos_dn)/2\n",
    "    #ring_radius, ring_radius_std, ring_radius_maxmin = get_ring_radius(snare_ctd_pos, get_ring_center(snare_ctd_pos))\n",
    "    ring_radius = get_ring_radius(tmd_pos_avg, get_ring_center(tmd_pos_avg))\n",
    "\n",
    "    n_measurements = np.shape(snare_data_all)[0]\n",
    "    n_measurements_arr.append(n_measurements)\n",
    "\n",
    "    snare_f_x_arr_all.append(snare_f_all[..., 0])\n",
    "    snare_f_y_arr_all.append(snare_f_all[..., 1])\n",
    "    snare_f_z_arr_all.append(snare_f_all[..., 2])\n",
    "    snare_data_x_arr_all.append(snare_data_all[..., 0])\n",
    "    snare_data_y_arr_all.append(snare_data_all[..., 1])\n",
    "    snare_data_z_arr_all.append(snare_data_all[..., 2])\n",
    "    linker_up_f_x_arr_all.append(linker_up_f_comp_all[..., 0])\n",
    "    linker_up_f_y_arr_all.append(linker_up_f_comp_all[..., 1])\n",
    "    linker_up_f_z_arr_all.append(linker_up_f_comp_all[..., 2])\n",
    "    linker_dn_f_x_arr_all.append(linker_dn_f_comp_all[..., 0])\n",
    "    linker_dn_f_y_arr_all.append(linker_dn_f_comp_all[..., 1])\n",
    "    linker_dn_f_z_arr_all.append(linker_dn_f_comp_all[..., 2])\n",
    "    linker_up_arr_all.append(linker_up_f_all)\n",
    "    linker_dn_arr_all.append(linker_dn_f_all)\n",
    "    snare_ctd_pos_arr_all.append(snare_ctd_pos)\n",
    "    snare_ctd_pos_avg_arr.append(snare_ctd_pos_avg)\n",
    "    tmd_pos_up_arr.append(tmd_pos_up)\n",
    "    tmd_pos_dn_arr.append(tmd_pos_dn)\n",
    "\n",
    "    ring_radius_arr.append(ring_radius)\n",
    "    #ring_radius_std_arr.append(ring_radius_std)\n",
    "    #ring_radius_maxmin_arr.append(ring_radius_maxmin)\n",
    "    \n",
    "    del tmd_pos_up, tmd_pos_dn, tmd_pos_avg, snare_ctd_pos, snare_ctd_pos_avg, ring_radius\n",
    "    del linker_up_f_comp_all, linker_dn_f_comp_all, snare_data_all, snare_f_all, linker_up_f_all, linker_dn_f_all\n",
    "    #del ring_radius, ring_radius_std, ring_radius_maxmin\n",
    "    "
   ]
  },
  {
   "cell_type": "code",
   "execution_count": 35,
   "metadata": {},
   "outputs": [],
   "source": [
    "# Flatten all force arrays into 2D arrays of shape (n_measurements, nsnare) \n",
    "\n",
    "snare_f_x_arr_all = np.concatenate(snare_f_x_arr_all, axis=0)\n",
    "snare_f_y_arr_all = np.concatenate(snare_f_y_arr_all, axis=0)\n",
    "snare_f_z_arr_all = np.concatenate(snare_f_z_arr_all, axis=0)\n",
    "snare_data_x_arr_all = np.concatenate(snare_data_x_arr_all, axis=0)\n",
    "snare_data_y_arr_all = np.concatenate(snare_data_y_arr_all, axis=0)\n",
    "snare_data_z_arr_all = np.concatenate(snare_data_z_arr_all, axis=0)\n",
    "linker_up_f_x_arr_all = np.concatenate(linker_up_f_x_arr_all, axis=0)\n",
    "linker_up_f_y_arr_all = np.concatenate(linker_up_f_y_arr_all, axis=0)\n",
    "linker_up_f_z_arr_all = np.concatenate(linker_up_f_z_arr_all, axis=0)\n",
    "linker_dn_f_x_arr_all = np.concatenate(linker_dn_f_x_arr_all, axis=0)\n",
    "linker_dn_f_y_arr_all = np.concatenate(linker_dn_f_y_arr_all, axis=0)\n",
    "linker_dn_f_z_arr_all = np.concatenate(linker_dn_f_z_arr_all, axis=0)\n",
    "linker_up_arr_all = np.concatenate(linker_up_arr_all, axis=0)\n",
    "linker_dn_arr_all = np.concatenate(linker_dn_arr_all, axis=0)\n",
    "snare_ctd_pos_arr_all = np.concatenate(snare_ctd_pos_arr_all, axis=0)\n",
    "tmd_pos_up_arr = np.concatenate(tmd_pos_up_arr, axis=0)\n",
    "tmd_pos_dn_arr = np.concatenate(tmd_pos_dn_arr, axis=0)\n",
    "ring_radius_arr = np.concatenate(ring_radius_arr, axis=0)"
   ]
  },
  {
   "cell_type": "code",
   "execution_count": 36,
   "metadata": {},
   "outputs": [],
   "source": [
    "# Compute total linker forces (sum of up and down linkers)\n",
    "linker_f_x_arr_all = linker_up_f_x_arr_all + linker_dn_f_x_arr_all\n",
    "linker_f_y_arr_all = linker_up_f_y_arr_all + linker_dn_f_y_arr_all\n",
    "linker_f_z_arr_all = linker_up_f_z_arr_all + linker_dn_f_z_arr_all"
   ]
  },
  {
   "cell_type": "code",
   "execution_count": 37,
   "metadata": {},
   "outputs": [
    {
     "name": "stdout",
     "output_type": "stream",
     "text": [
      "Number of measurements per SNARE = 147501\n",
      "Measurement time: 2006.01 us\n"
     ]
    }
   ],
   "source": [
    "# Compute averages and standard deviations ISNARE\n",
    "\n",
    "corr = 1\n",
    "n_measurements = np.sum(n_measurements_arr) # total number of measurements\n",
    "print('Number of measurements per SNARE = %d'%n_measurements)\n",
    "print('Measurement time: %.2f us'%(n_measurements*dt*check_period))"
   ]
  },
  {
   "cell_type": "markdown",
   "metadata": {},
   "source": [
    "## AVERAGES OVER ALL SNARES"
   ]
  },
  {
   "cell_type": "markdown",
   "metadata": {},
   "source": [
    "### COM forces"
   ]
  },
  {
   "cell_type": "code",
   "execution_count": 38,
   "metadata": {},
   "outputs": [
    {
     "name": "stdout",
     "output_type": "stream",
     "text": [
      "COM force x\n",
      "Mean: 0.01 pN\n",
      "SD: 9.72 pN\n",
      "SEM: 0.03 pN\n",
      "Median: 0.00 pN\n",
      "COM force y\n",
      "Mean: -0.01 pN\n",
      "SD: 9.71 pN\n",
      "SEM: 0.03 pN\n",
      "Median: -0.01 pN\n",
      "COM force z\n",
      "Mean: -0.00 pN\n",
      "SD: 11.34 pN\n",
      "SEM: 0.03 pN\n",
      "Median: 0.00 pN\n"
     ]
    }
   ],
   "source": [
    "print('COM force x')\n",
    "print('Mean: %.2f pN'%np.mean(snare_data_x_arr_all))\n",
    "print('SD: %.2f pN'%np.std(snare_data_x_arr_all))\n",
    "print('SEM: %.2f pN'%(np.std(snare_data_x_arr_all)/np.sqrt(n_measurements/corr)))\n",
    "print('Median: %.2f pN'%np.median(snare_data_x_arr_all))\n",
    "\n",
    "print('COM force y')\n",
    "print('Mean: %.2f pN'%np.mean(snare_data_y_arr_all))\n",
    "print('SD: %.2f pN'%np.std(snare_data_y_arr_all))\n",
    "print('SEM: %.2f pN'%(np.std(snare_data_y_arr_all)/np.sqrt(n_measurements/corr)))\n",
    "print('Median: %.2f pN'%np.median(snare_data_y_arr_all))\n",
    "\n",
    "print('COM force z')\n",
    "print('Mean: %.2f pN'%np.mean(snare_data_z_arr_all))\n",
    "print('SD: %.2f pN'%np.std(snare_data_z_arr_all))\n",
    "print('SEM: %.2f pN'%(np.std(snare_data_z_arr_all)/np.sqrt(n_measurements/corr)))\n",
    "print('Median: %.2f pN'%np.median(snare_data_z_arr_all))"
   ]
  },
  {
   "cell_type": "markdown",
   "metadata": {},
   "source": [
    "### Wall forces"
   ]
  },
  {
   "cell_type": "code",
   "execution_count": 39,
   "metadata": {},
   "outputs": [
    {
     "name": "stdout",
     "output_type": "stream",
     "text": [
      "Wall force f_x\n",
      "Mean: 0.13 pN\n",
      "SD: 9.42 pN\n",
      "SEM: 0.02 pN\n",
      "Median: 0.09 pN\n",
      "Wall force f_y\n",
      "Mean: 0.01 pN\n",
      "SD: 9.41 pN\n",
      "SEM: 0.02 pN\n",
      "Median: 0.00 pN\n",
      "Wall force f_z\n",
      "Mean: 0.02 pN\n",
      "SD: 11.07 pN\n",
      "SEM: 0.03 pN\n",
      "Median: 0.00 pN\n"
     ]
    }
   ],
   "source": [
    "print('Wall force f_x')\n",
    "print('Mean: %.2f pN'%np.mean(snare_f_x_arr_all))\n",
    "print('SD: %.2f pN'%np.std(snare_f_x_arr_all))\n",
    "print('SEM: %.2f pN'%(np.std(snare_f_x_arr_all)/np.sqrt(n_measurements/corr)))\n",
    "print('Median: %.2f pN'%np.median(snare_f_x_arr_all))\n",
    "\n",
    "print('Wall force f_y')\n",
    "print('Mean: %.2f pN'%np.mean(snare_f_y_arr_all))\n",
    "print('SD: %.2f pN'%np.std(snare_f_y_arr_all))\n",
    "print('SEM: %.2f pN'%(np.std(snare_f_y_arr_all)/np.sqrt(n_measurements/corr)))\n",
    "print('Median: %.2f pN'%np.median(snare_f_y_arr_all))\n",
    "\n",
    "print('Wall force f_z')\n",
    "print('Mean: %.2f pN'%np.mean(snare_f_z_arr_all))\n",
    "print('SD: %.2f pN'%np.std(snare_f_z_arr_all))\n",
    "print('SEM: %.2f pN'%(np.std(snare_f_z_arr_all)/np.sqrt(n_measurements/corr)))\n",
    "print('Median: %.2f pN'%np.median(snare_f_z_arr_all))"
   ]
  },
  {
   "cell_type": "markdown",
   "metadata": {},
   "source": [
    "### Linker forces"
   ]
  },
  {
   "cell_type": "code",
   "execution_count": 40,
   "metadata": {},
   "outputs": [
    {
     "name": "stdout",
     "output_type": "stream",
     "text": [
      "x up linker force T_x\n",
      "Mean: 1.10 pN\n",
      "SD: 5.54 pN\n",
      "SEM: 0.01 pN\n",
      "Median: 1.03 pN\n",
      "y up linker force T_y\n",
      "Mean: 0.04 pN\n",
      "SD: 5.51 pN\n",
      "SEM: 0.01 pN\n",
      "Median: 0.03 pN\n",
      "z up linker force T_z\n",
      "Mean: 15.99 pN\n",
      "SD: 5.57 pN\n",
      "SEM: 0.01 pN\n",
      "Median: 15.28 pN\n",
      "x down linker force T_x\n",
      "Mean: -1.23 pN\n",
      "SD: 5.57 pN\n",
      "SEM: 0.01 pN\n",
      "Median: -1.16 pN\n",
      "y down linker force T_y\n",
      "Mean: -0.05 pN\n",
      "SD: 5.59 pN\n",
      "SEM: 0.01 pN\n",
      "Median: -0.06 pN\n",
      "z down linker force T_z\n",
      "Mean: -16.01 pN\n",
      "SD: 5.51 pN\n",
      "SEM: 0.01 pN\n",
      "Median: -15.37 pN\n",
      "x both linker forces T_x\n",
      "Mean: -0.13 pN\n",
      "SD: 7.66 pN\n",
      "SEM: 0.02 pN\n",
      "Median: -0.12 pN\n",
      "y both linker forces T_y\n",
      "Mean: -0.02 pN\n",
      "SD: 7.66 pN\n",
      "SEM: 0.02 pN\n",
      "Median: -0.01 pN\n",
      "z both linker forces T_z\n",
      "Mean: -0.03 pN\n",
      "SD: 7.06 pN\n",
      "SEM: 0.02 pN\n",
      "Median: -0.03 pN\n",
      "Mean zippering force up T_up\n",
      "Mean: 17.68 pN\n",
      "SD: 6.02 pN\n",
      "SEM: 0.02 pN\n",
      "Median: 16.88 pN\n",
      "Mean zippering force down T_dn\n",
      "Mean: 17.76 pN\n",
      "SD: 5.93 pN\n",
      "SEM: 0.02 pN\n",
      "Median: 17.03 pN\n"
     ]
    }
   ],
   "source": [
    "print('x up linker force T_x')\n",
    "print('Mean: %.2f pN'%np.mean(linker_up_f_x_arr_all))\n",
    "print('SD: %.2f pN'%np.std(linker_up_f_x_arr_all))\n",
    "print('SEM: %.2f pN'%(np.std(linker_up_f_x_arr_all)/np.sqrt(n_measurements/corr)))\n",
    "print('Median: %.2f pN'%np.median(linker_up_f_x_arr_all))\n",
    "\n",
    "print('y up linker force T_y')\n",
    "print('Mean: %.2f pN'%np.mean(linker_up_f_y_arr_all))\n",
    "print('SD: %.2f pN'%np.std(linker_up_f_y_arr_all))\n",
    "print('SEM: %.2f pN'%(np.std(linker_up_f_y_arr_all)/np.sqrt(n_measurements/corr)))\n",
    "print('Median: %.2f pN'%np.median(linker_up_f_y_arr_all))\n",
    "\n",
    "print('z up linker force T_z')\n",
    "print('Mean: %.2f pN'%np.mean(linker_up_f_z_arr_all))\n",
    "print('SD: %.2f pN'%np.std(linker_up_f_z_arr_all))\n",
    "print('SEM: %.2f pN'%(np.std(linker_up_f_z_arr_all)/np.sqrt(n_measurements/corr)))\n",
    "print('Median: %.2f pN'%np.median(linker_up_f_z_arr_all))\n",
    "\n",
    "print('x down linker force T_x')\n",
    "print('Mean: %.2f pN'%np.mean(linker_dn_f_x_arr_all))\n",
    "print('SD: %.2f pN'%np.std(linker_dn_f_x_arr_all))\n",
    "print('SEM: %.2f pN'%(np.std(linker_dn_f_x_arr_all)/np.sqrt(n_measurements/corr)))\n",
    "print('Median: %.2f pN'%np.median(linker_dn_f_x_arr_all))\n",
    "\n",
    "print('y down linker force T_y')\n",
    "print('Mean: %.2f pN'%np.mean(linker_dn_f_y_arr_all))\n",
    "print('SD: %.2f pN'%np.std(linker_dn_f_y_arr_all))\n",
    "print('SEM: %.2f pN'%(np.std(linker_dn_f_y_arr_all)/np.sqrt(n_measurements/corr)))\n",
    "print('Median: %.2f pN'%np.median(linker_dn_f_y_arr_all))\n",
    "\n",
    "print('z down linker force T_z')\n",
    "print('Mean: %.2f pN'%np.mean(linker_dn_f_z_arr_all))\n",
    "print('SD: %.2f pN'%np.std(linker_dn_f_z_arr_all))\n",
    "print('SEM: %.2f pN'%(np.std(linker_dn_f_z_arr_all)/np.sqrt(n_measurements/corr)))\n",
    "print('Median: %.2f pN'%np.median(linker_dn_f_z_arr_all))\n",
    "\n",
    "print('x both linker forces T_x')\n",
    "print('Mean: %.2f pN'%np.mean(linker_f_x_arr_all))\n",
    "print('SD: %.2f pN'%np.std(linker_f_x_arr_all))\n",
    "print('SEM: %.2f pN'%(np.std(linker_f_x_arr_all)/np.sqrt(n_measurements/corr)))\n",
    "print('Median: %.2f pN'%np.median(linker_f_x_arr_all))\n",
    "\n",
    "print('y both linker forces T_y')\n",
    "print('Mean: %.2f pN'%np.mean(linker_f_y_arr_all))\n",
    "print('SD: %.2f pN'%np.std(linker_f_y_arr_all))\n",
    "print('SEM: %.2f pN'%(np.std(linker_f_y_arr_all)/np.sqrt(n_measurements/corr)))\n",
    "print('Median: %.2f pN'%np.median(linker_f_y_arr_all))\n",
    "\n",
    "print('z both linker forces T_z')\n",
    "print('Mean: %.2f pN'%np.mean(linker_f_z_arr_all))\n",
    "print('SD: %.2f pN'%np.std(linker_f_z_arr_all))\n",
    "print('SEM: %.2f pN'%(np.std(linker_f_z_arr_all)/np.sqrt(n_measurements/corr)))\n",
    "print('Median: %.2f pN'%np.median(linker_f_z_arr_all))\n",
    "\n",
    "print('Mean zippering force up T_up')\n",
    "print('Mean: %.2f pN'%np.mean(linker_up_arr_all))\n",
    "print('SD: %.2f pN'%np.std(linker_up_arr_all))\n",
    "print('SEM: %.2f pN'%(np.std(linker_up_arr_all)/np.sqrt(n_measurements/corr)))\n",
    "print('Median: %.2f pN'%np.median(linker_up_arr_all))\n",
    "\n",
    "print('Mean zippering force down T_dn')\n",
    "print('Mean: %.2f pN'%np.mean(linker_dn_arr_all))\n",
    "print('SD: %.2f pN'%np.std(linker_dn_arr_all))\n",
    "print('SEM: %.2f pN'%(np.std(linker_dn_arr_all)/np.sqrt(n_measurements/corr)))\n",
    "print('Median: %.2f pN'%np.median(linker_dn_arr_all))"
   ]
  },
  {
   "cell_type": "markdown",
   "metadata": {},
   "source": [
    "## AVERAGES OVER EACH SNARE"
   ]
  },
  {
   "cell_type": "markdown",
   "metadata": {},
   "source": [
    "### COM forces"
   ]
  },
  {
   "cell_type": "code",
   "execution_count": 41,
   "metadata": {},
   "outputs": [
    {
     "data": {
      "text/plain": [
       "\"\\nprint('COM force x')\\nprint('Mean (pN): ', np.mean(snare_data_x_arr_all, axis=0))\\nprint('SD (pN): ', np.std(snare_data_x_arr_all, axis=0))\\nprint('SEM (pN): ', (np.std(snare_data_x_arr_all, axis=0)/np.sqrt(n_measurements/corr)))\\nprint('Median (pN): ', np.median(snare_data_x_arr_all, axis=0))\\n\\nprint('\\nCOM force y')\\nprint('Mean (pN): ', np.mean(snare_data_y_arr_all, axis=0))\\nprint('SD (pN): ', np.std(snare_data_y_arr_all, axis=0))\\nprint('SEM (pN): ', (np.std(snare_data_y_arr_all, axis=0)/np.sqrt(n_measurements/corr)))\\nprint('Median (pN): ', np.median(snare_data_y_arr_all, axis=0))\\n\\nprint('\\nCOM force z')\\nprint('Mean (pN): ', np.mean(snare_data_z_arr_all, axis=0))\\nprint('SD (pN): ', np.std(snare_data_z_arr_all, axis=0))\\nprint('SEM (pN): ', (np.std(snare_data_z_arr_all, axis=0)/np.sqrt(n_measurements/corr)))\\nprint('Median (pN): ', np.median(snare_data_z_arr_all, axis=0))\\n\""
      ]
     },
     "execution_count": 41,
     "metadata": {},
     "output_type": "execute_result"
    }
   ],
   "source": [
    "'''\n",
    "print('COM force x')\n",
    "print('Mean (pN): ', np.mean(snare_data_x_arr_all, axis=0))\n",
    "print('SD (pN): ', np.std(snare_data_x_arr_all, axis=0))\n",
    "print('SEM (pN): ', (np.std(snare_data_x_arr_all, axis=0)/np.sqrt(n_measurements/corr)))\n",
    "print('Median (pN): ', np.median(snare_data_x_arr_all, axis=0))\n",
    "\n",
    "print('\\nCOM force y')\n",
    "print('Mean (pN): ', np.mean(snare_data_y_arr_all, axis=0))\n",
    "print('SD (pN): ', np.std(snare_data_y_arr_all, axis=0))\n",
    "print('SEM (pN): ', (np.std(snare_data_y_arr_all, axis=0)/np.sqrt(n_measurements/corr)))\n",
    "print('Median (pN): ', np.median(snare_data_y_arr_all, axis=0))\n",
    "\n",
    "print('\\nCOM force z')\n",
    "print('Mean (pN): ', np.mean(snare_data_z_arr_all, axis=0))\n",
    "print('SD (pN): ', np.std(snare_data_z_arr_all, axis=0))\n",
    "print('SEM (pN): ', (np.std(snare_data_z_arr_all, axis=0)/np.sqrt(n_measurements/corr)))\n",
    "print('Median (pN): ', np.median(snare_data_z_arr_all, axis=0))\n",
    "'''"
   ]
  },
  {
   "cell_type": "markdown",
   "metadata": {},
   "source": [
    "### Wall forces"
   ]
  },
  {
   "cell_type": "code",
   "execution_count": 42,
   "metadata": {},
   "outputs": [
    {
     "data": {
      "text/plain": [
       "\"\\nprint('Wall force f_x')\\nprint('Mean (pN): ', np.mean(snare_f_x_arr_all, axis=0))\\nprint('SD (pN): ', np.std(snare_f_x_arr_all, axis=0))\\nprint('SEM (pN): ', (np.std(snare_f_x_arr_all, axis=0)/np.sqrt(n_measurements/corr)))\\nprint('Median (pN): ', np.median(snare_f_x_arr_all, axis=0))\\n\\nprint('Wall force f_y')\\nprint('Mean (pN): ', np.mean(snare_f_y_arr_all, axis=0))\\nprint('SD (pN): ', np.std(snare_f_y_arr_all, axis=0))\\nprint('SEM (pN): ', (np.std(snare_f_y_arr_all, axis=0)/np.sqrt(n_measurements/corr)))\\nprint('Median (pN): ', np.median(snare_f_y_arr_all, axis=0))\\n\\nprint('Wall force f_z')\\nprint('Mean (pN): ', np.mean(snare_f_z_arr_all, axis=0))\\nprint('SD (pN): ', np.std(snare_f_z_arr_all, axis=0))\\nprint('SEM (pN): ', (np.std(snare_f_z_arr_all, axis=0)/np.sqrt(n_measurements/corr)))\\nprint('Median (pN): ', np.median(snare_f_z_arr_all, axis=0))\\n\""
      ]
     },
     "execution_count": 42,
     "metadata": {},
     "output_type": "execute_result"
    }
   ],
   "source": [
    "'''\n",
    "print('Wall force f_x')\n",
    "print('Mean (pN): ', np.mean(snare_f_x_arr_all, axis=0))\n",
    "print('SD (pN): ', np.std(snare_f_x_arr_all, axis=0))\n",
    "print('SEM (pN): ', (np.std(snare_f_x_arr_all, axis=0)/np.sqrt(n_measurements/corr)))\n",
    "print('Median (pN): ', np.median(snare_f_x_arr_all, axis=0))\n",
    "\n",
    "print('Wall force f_y')\n",
    "print('Mean (pN): ', np.mean(snare_f_y_arr_all, axis=0))\n",
    "print('SD (pN): ', np.std(snare_f_y_arr_all, axis=0))\n",
    "print('SEM (pN): ', (np.std(snare_f_y_arr_all, axis=0)/np.sqrt(n_measurements/corr)))\n",
    "print('Median (pN): ', np.median(snare_f_y_arr_all, axis=0))\n",
    "\n",
    "print('Wall force f_z')\n",
    "print('Mean (pN): ', np.mean(snare_f_z_arr_all, axis=0))\n",
    "print('SD (pN): ', np.std(snare_f_z_arr_all, axis=0))\n",
    "print('SEM (pN): ', (np.std(snare_f_z_arr_all, axis=0)/np.sqrt(n_measurements/corr)))\n",
    "print('Median (pN): ', np.median(snare_f_z_arr_all, axis=0))\n",
    "'''"
   ]
  },
  {
   "cell_type": "markdown",
   "metadata": {},
   "source": [
    "### Linker forces"
   ]
  },
  {
   "cell_type": "code",
   "execution_count": 43,
   "metadata": {},
   "outputs": [
    {
     "data": {
      "text/plain": [
       "\"\\nprint('x up linker force T_x')\\nprint('Mean (pN): ', np.mean(linker_up_f_x_arr_all, axis=0))\\nprint('SD (pN): ', np.std(linker_up_f_x_arr_all, axis=0))\\nprint('SEM (pN): ', (np.std(linker_up_f_x_arr_all, axis=0)/np.sqrt(n_measurements/corr)))\\nprint('Median (pN): ', np.median(linker_up_f_x_arr_all, axis=0))\\n\\nprint('y up linker force T_y')\\nprint('Mean (pN): ', np.mean(linker_up_f_y_arr_all, axis=0))\\nprint('SD (pN): ', np.std(linker_up_f_y_arr_all, axis=0))\\nprint('SEM (pN): ', (np.std(linker_up_f_y_arr_all, axis=0)/np.sqrt(n_measurements/corr)))\\nprint('Median (pN): ', np.median(linker_up_f_y_arr_all, axis=0))\\n\\nprint('z up linker force T_z')\\nprint('Mean (pN): ', np.mean(linker_up_f_z_arr_all, axis=0))\\nprint('SD (pN): ', np.std(linker_up_f_z_arr_all, axis=0))\\nprint('SEM (pN): ', (np.std(linker_up_f_z_arr_all, axis=0)/np.sqrt(n_measurements/corr)))\\nprint('Median (pN): ', np.median(linker_up_f_z_arr_all, axis=0))\\n\\nprint('x down linker force T_x')\\nprint('Mean (pN): ', np.mean(linker_dn_f_x_arr_all, axis=0))\\nprint('SD (pN): ', np.std(linker_dn_f_x_arr_all, axis=0))\\nprint('SEM (pN): ', (np.std(linker_dn_f_x_arr_all, axis=0)/np.sqrt(n_measurements/corr)))\\nprint('Median (pN): ', np.median(linker_dn_f_x_arr_all, axis=0))\\n\\nprint('y down linker force T_y')\\nprint('Mean (pN): ', np.mean(linker_dn_f_y_arr_all, axis=0))\\nprint('SD (pN): ', np.std(linker_dn_f_y_arr_all, axis=0))\\nprint('SEM (pN): ', (np.std(linker_dn_f_y_arr_all, axis=0)/np.sqrt(n_measurements/corr)))\\nprint('Median (pN): ', np.median(linker_dn_f_y_arr_all, axis=0))\\n\\nprint('z down linker force T_z')\\nprint('Mean (pN): ', np.mean(linker_dn_f_z_arr_all, axis=0))\\nprint('SD (pN): ', np.std(linker_dn_f_z_arr_all, axis=0))\\nprint('SEM (pN): ', (np.std(linker_dn_f_z_arr_all, axis=0)/np.sqrt(n_measurements/corr)))\\nprint('Median (pN): ', np.median(linker_dn_f_z_arr_all, axis=0))\\n\\nprint('x both linker forces T_x')\\nprint('Mean (pN): ', np.mean(linker_f_x_arr_all, axis=0))\\nprint('SD (pN): ', np.std(linker_f_x_arr_all, axis=0))\\nprint('SEM (pN): ', (np.std(linker_f_x_arr_all, axis=0)/np.sqrt(n_measurements/corr)))\\nprint('Median (pN): ', np.median(linker_f_x_arr_all, axis=0))\\n\\nprint('y both linker forces T_y')\\nprint('Mean (pN): ', np.mean(linker_f_y_arr_all, axis=0))\\nprint('SD (pN): ', np.std(linker_f_y_arr_all, axis=0))\\nprint('SEM (pN): ', (np.std(linker_f_y_arr_all, axis=0)/np.sqrt(n_measurements/corr)))\\nprint('Median (pN): ', np.median(linker_f_y_arr_all, axis=0))\\n\\nprint('z both linker forces T_z')\\nprint('Mean (pN): ', np.mean(linker_f_z_arr_all, axis=0))\\nprint('SD (pN): ', np.std(linker_f_z_arr_all, axis=0))\\nprint('SEM (pN): ', (np.std(linker_f_z_arr_all, axis=0)/np.sqrt(n_measurements/corr)))\\nprint('Median (pN): ', np.median(linker_f_z_arr_all, axis=0))\\n\\nprint('Mean zippering force up T_up')\\nprint('Mean (pN): ', np.mean(linker_up_arr_all, axis=0))\\nprint('SD (pN): ', np.std(linker_up_arr_all, axis=0))\\nprint('SEM (pN): ', (np.std(linker_up_arr_all, axis=0)/np.sqrt(n_measurements/corr)))\\nprint('Median (pN): ', np.median(linker_up_arr_all, axis=0))\\n\\nprint('Mean zippering force down T_dn')\\nprint('Mean (pN): ', np.mean(linker_dn_arr_all, axis=0))\\nprint('SD (pN): ', np.std(linker_dn_arr_all, axis=0))\\nprint('SEM (pN): ', (np.std(linker_dn_arr_all, axis=0)/np.sqrt(n_measurements/corr)))\\nprint('Median (pN): ', np.median(linker_dn_arr_all, axis=0))\\n\""
      ]
     },
     "execution_count": 43,
     "metadata": {},
     "output_type": "execute_result"
    }
   ],
   "source": [
    "'''\n",
    "print('x up linker force T_x')\n",
    "print('Mean (pN): ', np.mean(linker_up_f_x_arr_all, axis=0))\n",
    "print('SD (pN): ', np.std(linker_up_f_x_arr_all, axis=0))\n",
    "print('SEM (pN): ', (np.std(linker_up_f_x_arr_all, axis=0)/np.sqrt(n_measurements/corr)))\n",
    "print('Median (pN): ', np.median(linker_up_f_x_arr_all, axis=0))\n",
    "\n",
    "print('y up linker force T_y')\n",
    "print('Mean (pN): ', np.mean(linker_up_f_y_arr_all, axis=0))\n",
    "print('SD (pN): ', np.std(linker_up_f_y_arr_all, axis=0))\n",
    "print('SEM (pN): ', (np.std(linker_up_f_y_arr_all, axis=0)/np.sqrt(n_measurements/corr)))\n",
    "print('Median (pN): ', np.median(linker_up_f_y_arr_all, axis=0))\n",
    "\n",
    "print('z up linker force T_z')\n",
    "print('Mean (pN): ', np.mean(linker_up_f_z_arr_all, axis=0))\n",
    "print('SD (pN): ', np.std(linker_up_f_z_arr_all, axis=0))\n",
    "print('SEM (pN): ', (np.std(linker_up_f_z_arr_all, axis=0)/np.sqrt(n_measurements/corr)))\n",
    "print('Median (pN): ', np.median(linker_up_f_z_arr_all, axis=0))\n",
    "\n",
    "print('x down linker force T_x')\n",
    "print('Mean (pN): ', np.mean(linker_dn_f_x_arr_all, axis=0))\n",
    "print('SD (pN): ', np.std(linker_dn_f_x_arr_all, axis=0))\n",
    "print('SEM (pN): ', (np.std(linker_dn_f_x_arr_all, axis=0)/np.sqrt(n_measurements/corr)))\n",
    "print('Median (pN): ', np.median(linker_dn_f_x_arr_all, axis=0))\n",
    "\n",
    "print('y down linker force T_y')\n",
    "print('Mean (pN): ', np.mean(linker_dn_f_y_arr_all, axis=0))\n",
    "print('SD (pN): ', np.std(linker_dn_f_y_arr_all, axis=0))\n",
    "print('SEM (pN): ', (np.std(linker_dn_f_y_arr_all, axis=0)/np.sqrt(n_measurements/corr)))\n",
    "print('Median (pN): ', np.median(linker_dn_f_y_arr_all, axis=0))\n",
    "\n",
    "print('z down linker force T_z')\n",
    "print('Mean (pN): ', np.mean(linker_dn_f_z_arr_all, axis=0))\n",
    "print('SD (pN): ', np.std(linker_dn_f_z_arr_all, axis=0))\n",
    "print('SEM (pN): ', (np.std(linker_dn_f_z_arr_all, axis=0)/np.sqrt(n_measurements/corr)))\n",
    "print('Median (pN): ', np.median(linker_dn_f_z_arr_all, axis=0))\n",
    "\n",
    "print('x both linker forces T_x')\n",
    "print('Mean (pN): ', np.mean(linker_f_x_arr_all, axis=0))\n",
    "print('SD (pN): ', np.std(linker_f_x_arr_all, axis=0))\n",
    "print('SEM (pN): ', (np.std(linker_f_x_arr_all, axis=0)/np.sqrt(n_measurements/corr)))\n",
    "print('Median (pN): ', np.median(linker_f_x_arr_all, axis=0))\n",
    "\n",
    "print('y both linker forces T_y')\n",
    "print('Mean (pN): ', np.mean(linker_f_y_arr_all, axis=0))\n",
    "print('SD (pN): ', np.std(linker_f_y_arr_all, axis=0))\n",
    "print('SEM (pN): ', (np.std(linker_f_y_arr_all, axis=0)/np.sqrt(n_measurements/corr)))\n",
    "print('Median (pN): ', np.median(linker_f_y_arr_all, axis=0))\n",
    "\n",
    "print('z both linker forces T_z')\n",
    "print('Mean (pN): ', np.mean(linker_f_z_arr_all, axis=0))\n",
    "print('SD (pN): ', np.std(linker_f_z_arr_all, axis=0))\n",
    "print('SEM (pN): ', (np.std(linker_f_z_arr_all, axis=0)/np.sqrt(n_measurements/corr)))\n",
    "print('Median (pN): ', np.median(linker_f_z_arr_all, axis=0))\n",
    "\n",
    "print('Mean zippering force up T_up')\n",
    "print('Mean (pN): ', np.mean(linker_up_arr_all, axis=0))\n",
    "print('SD (pN): ', np.std(linker_up_arr_all, axis=0))\n",
    "print('SEM (pN): ', (np.std(linker_up_arr_all, axis=0)/np.sqrt(n_measurements/corr)))\n",
    "print('Median (pN): ', np.median(linker_up_arr_all, axis=0))\n",
    "\n",
    "print('Mean zippering force down T_dn')\n",
    "print('Mean (pN): ', np.mean(linker_dn_arr_all, axis=0))\n",
    "print('SD (pN): ', np.std(linker_dn_arr_all, axis=0))\n",
    "print('SEM (pN): ', (np.std(linker_dn_arr_all, axis=0)/np.sqrt(n_measurements/corr)))\n",
    "print('Median (pN): ', np.median(linker_dn_arr_all, axis=0))\n",
    "'''"
   ]
  },
  {
   "cell_type": "code",
   "execution_count": 44,
   "metadata": {},
   "outputs": [
    {
     "name": "stdout",
     "output_type": "stream",
     "text": [
      "(147501, 7)\n",
      "(7,)\n",
      "Mean linker force magnitude in the xy plane\n",
      "Mean (pN):  [9.39581901 9.36312921 9.37018644 9.38502151 9.42121138 9.35634299\n",
      " 9.38084467]\n"
     ]
    }
   ],
   "source": [
    "# Calculate mean linker force magnitude in the xy plane\n",
    "linker_f_xy_arr_all = np.sqrt(linker_f_x_arr_all**2 + linker_f_y_arr_all**2)\n",
    "print(np.shape(linker_f_xy_arr_all))\n",
    "linker_f_xy_arr_avg = np.mean(linker_f_xy_arr_all, axis=0)\n",
    "print(np.shape(linker_f_xy_arr_avg))\n",
    "print('Mean linker force magnitude in the xy plane')\n",
    "print('Mean (pN): ', linker_f_xy_arr_avg)"
   ]
  },
  {
   "cell_type": "code",
   "execution_count": 45,
   "metadata": {},
   "outputs": [
    {
     "name": "stdout",
     "output_type": "stream",
     "text": [
      "[-0.18507124 -0.19687673 -0.30023362 -1.15825127 -0.26086968 -0.54471987\n",
      " -0.88565327]\n"
     ]
    }
   ],
   "source": [
    "# Mean CTD positions\n",
    "snare_ctd_pos_avg_arr = np.mean(snare_ctd_pos_avg_arr, axis=0)\n",
    "ori = get_ring_center(snare_ctd_pos_avg_arr)\n",
    "print(ori)"
   ]
  },
  {
   "cell_type": "code",
   "execution_count": 46,
   "metadata": {},
   "outputs": [
    {
     "data": {
      "image/png": "[encoded data removed]",
      "text/plain": [
       "<Figure size 640x480 with 1 Axes>"
      ]
     },
     "metadata": {},
     "output_type": "display_data"
    }
   ],
   "source": [
    "# Plot the unit vectors of each snare's linker forces\n",
    "font_title = {  'weight': 'bold',\n",
    "                'size': 10}\n",
    "font_axis = {   'weight': 'normal',\n",
    "                'size': 10}\n",
    "\n",
    "plt.figure()\n",
    "c_arr = ['b', 'g', 'r', 'c', 'm', 'y', 'k', 'b', 'g']\n",
    "for i in range(np.shape(linker_f_x_arr_all)[1]):\n",
    "    plt.quiver(snare_ctd_pos_avg_arr[i,0], snare_ctd_pos_avg_arr[i,1], np.mean(linker_f_x_arr_all[:, i]), np.mean(linker_f_y_arr_all[:, i]), angles='xy', scale_units='xy', scale=1.5, color=c_arr[i], label='SNARE %d'%(i+1), width=0.02)\n",
    "plt.plot(ori[0], ori[1], 'kx', markersize=5)\n",
    "plt.xlim(-10, 10)\n",
    "plt.ylim(-10, 10)\n",
    "plt.xlabel('x (nm)', fontdict=font_axis)\n",
    "plt.ylabel('y (nm)', fontdict=font_axis)\n",
    "# Remove tick labels\n",
    "#plt.xticks([])\n",
    "#plt.yticks([])\n",
    "plt.legend()\n",
    "plt.gca().set_aspect('equal', adjustable='box')\n",
    "plt.title('Total linker force (x-y projection)')\n",
    "#plt.title('Top linker force directions')\n",
    "#plt.title('Bottom linker force directions')\n",
    "plt.show()"
   ]
  },
  {
   "cell_type": "markdown",
   "metadata": {},
   "source": [
    "# FIXED POLAR COORDINATES"
   ]
  },
  {
   "cell_type": "code",
   "execution_count": 47,
   "metadata": {},
   "outputs": [
    {
     "name": "stdout",
     "output_type": "stream",
     "text": [
      "Linker force magnitude in the mean direction in xy plane\n",
      "Mean (pN):  [0.9639914820924907, 0.560325920122404, 0.7089465259238716, 1.3149768698874345, 0.6466827982122798, 0.6771230434441902, 0.8676942154277789]\n"
     ]
    }
   ],
   "source": [
    "# Calculate the linker force magnitude in the xy plane along the mean direction\n",
    "linker_f_xy_magn_avg = []\n",
    "for i in range(np.shape(linker_f_x_arr_all)[1]):\n",
    "    linker_f_xy_magn_avg.append(np.sqrt(np.mean(linker_f_x_arr_all[:, i])**2 + np.mean(linker_f_y_arr_all[:, i])**2))\n",
    "print('Linker force magnitude in the mean direction in xy plane')\n",
    "print('Mean (pN): ',linker_f_xy_magn_avg)"
   ]
  },
  {
   "cell_type": "code",
   "execution_count": 48,
   "metadata": {},
   "outputs": [
    {
     "data": {
      "text/plain": [
       "\"\\nld_dir_rad_x = -np.mean(linker_f_x_arr_all, axis = 0)/linker_f_xy_magn_avg\\nld_dir_rad_y = -np.mean(linker_f_y_arr_all, axis = 0)/linker_f_xy_magn_avg\\nld_dir_rad_magn = np.sqrt(ld_dir_rad_x**2 + ld_dir_rad_y**2)\\nprint('Linker direction in the radial direction')\\nprint('Mean (pN): ', ld_dir_rad_magn)\\nld_dir_theta_x = -ld_dir_rad_y\\nld_dir_theta_y = ld_dir_rad_x\\n\""
      ]
     },
     "execution_count": 48,
     "metadata": {},
     "output_type": "execute_result"
    }
   ],
   "source": [
    "# Get the unit vectors of the linker forces in the radial and theta directions\n",
    "'''\n",
    "ld_dir_rad_x = -np.mean(linker_f_x_arr_all, axis = 0)/linker_f_xy_magn_avg\n",
    "ld_dir_rad_y = -np.mean(linker_f_y_arr_all, axis = 0)/linker_f_xy_magn_avg\n",
    "ld_dir_rad_magn = np.sqrt(ld_dir_rad_x**2 + ld_dir_rad_y**2)\n",
    "print('Linker direction in the radial direction')\n",
    "print('Mean (pN): ', ld_dir_rad_magn)\n",
    "ld_dir_theta_x = -ld_dir_rad_y\n",
    "ld_dir_theta_y = ld_dir_rad_x\n",
    "'''"
   ]
  },
  {
   "cell_type": "code",
   "execution_count": 49,
   "metadata": {},
   "outputs": [
    {
     "name": "stdout",
     "output_type": "stream",
     "text": [
      "(147501, 7, 3)\n",
      "(7, 3)\n"
     ]
    }
   ],
   "source": [
    "# Find the mean position of each SNARE's TMD in cartesian coords\n",
    "tmd_pos_avg_arr = (tmd_pos_up_arr + tmd_pos_dn_arr)/2\n",
    "tmd_pos_avg = np.mean(tmd_pos_avg_arr, axis=0)\n",
    "print(np.shape(tmd_pos_avg_arr))\n",
    "print(np.shape(tmd_pos_avg))"
   ]
  },
  {
   "cell_type": "code",
   "execution_count": 50,
   "metadata": {},
   "outputs": [],
   "source": [
    "# Get radial and theta unit vectors pointing from the ring center to the TMDs\n",
    "ld_dir_rad_x, ld_dir_rad_y, ld_dir_theta_x, ld_dir_theta_y = get_polar_dir(tmd_pos_avg_arr, get_ring_center(tmd_pos_avg_arr))"
   ]
  },
  {
   "cell_type": "code",
   "execution_count": 51,
   "metadata": {},
   "outputs": [
    {
     "data": {
      "image/png": "[encoded data removed]",
      "text/plain": [
       "<Figure size 640x480 with 1 Axes>"
      ]
     },
     "metadata": {},
     "output_type": "display_data"
    }
   ],
   "source": [
    "# Plot the unit vectors of each snare's linker forces\n",
    "plt.figure()\n",
    "c_arr = ['b', 'g', 'r', 'c', 'm', 'y', 'k', 'b', 'g']\n",
    "for i in range(np.shape(linker_f_x_arr_all)[1]):\n",
    "    plt.quiver(snare_ctd_pos_avg_arr[i,0], snare_ctd_pos_avg_arr[i,1], np.mean(linker_f_x_arr_all[:, i]), np.mean(linker_f_y_arr_all[:, i]), angles='xy', scale_units='xy', scale=1.5, color=c_arr[i], label='SNARE %d'%(i+1), width=0.02)\n",
    "    #plt.quiver(tmd_pos_avg[i, 0], tmd_pos_avg[i, 1], np.mean(ld_dir_rad_x[i]), np.mean(ld_dir_rad_y[i]), angles='xy', scale_units='xy', scale=0.5, color=c_arr[i], label='SNARE %d'%(i+1))\n",
    "    plt.plot(tmd_pos_avg[i, 0], tmd_pos_avg[i, 1], 'x', markersize=5, color='k')\n",
    "#plt.plot(ori[0], ori[1], 'kx', markersize=5)\n",
    "#plt.plot(0, 0, 'k.', markersize=8)\n",
    "plt.xlim(-10, 10)\n",
    "plt.ylim(-10, 10)\n",
    "plt.xlabel('x (nm)', fontdict=font_axis)\n",
    "plt.ylabel('y (nm)', fontdict=font_axis)\n",
    "# Remove tick labels\n",
    "#plt.xticks([])\n",
    "#plt.yticks([])\n",
    "#plt.legend()\n",
    "plt.gca().set_aspect('equal', adjustable='box')\n",
    "plt.title('Total linker force (x-y projection)')\n",
    "#plt.title('Top linker force directions')\n",
    "#plt.title('Bottom linker force directions')\n",
    "plt.show()"
   ]
  },
  {
   "cell_type": "code",
   "execution_count": 52,
   "metadata": {},
   "outputs": [],
   "source": [
    "# Convert all forces to polar coordinates\n",
    "snare_data_rad_arr_all, snare_data_theta_arr_all, snare_data_z_arr_all = get_polar_force(snare_data_x_arr_all, snare_data_y_arr_all, snare_data_z_arr_all, ld_dir_rad_x, ld_dir_rad_y, ld_dir_theta_x, ld_dir_theta_y)\n",
    "snare_f_rad_arr_all, snare_f_theta_arr_all, snare_f_z_arr_all = get_polar_force(snare_f_x_arr_all, snare_f_y_arr_all, snare_f_z_arr_all, ld_dir_rad_x, ld_dir_rad_y, ld_dir_theta_x, ld_dir_theta_y)\n",
    "linker_up_f_rad_arr_all, linker_up_f_theta_arr_all, linker_up_f_z_arr_all = get_polar_force(linker_up_f_x_arr_all, linker_up_f_y_arr_all, linker_up_f_z_arr_all, ld_dir_rad_x, ld_dir_rad_y, ld_dir_theta_x, ld_dir_theta_y)\n",
    "linker_dn_f_rad_arr_all, linker_dn_f_theta_arr_all, linker_dn_f_z_arr_all = get_polar_force(linker_dn_f_x_arr_all, linker_dn_f_y_arr_all, linker_dn_f_z_arr_all, ld_dir_rad_x, ld_dir_rad_y, ld_dir_theta_x, ld_dir_theta_y)"
   ]
  },
  {
   "cell_type": "code",
   "execution_count": 53,
   "metadata": {},
   "outputs": [],
   "source": [
    "# Compute total linker forces (sum of up and down linkers)\n",
    "linker_f_rad_arr_all = linker_up_f_rad_arr_all + linker_dn_f_rad_arr_all\n",
    "linker_f_theta_arr_all = linker_up_f_theta_arr_all + linker_dn_f_theta_arr_all\n",
    "linker_f_z_arr_all = linker_up_f_z_arr_all + linker_dn_f_z_arr_all"
   ]
  },
  {
   "cell_type": "markdown",
   "metadata": {},
   "source": [
    "## AVERAGES OVER ALL SNARES"
   ]
  },
  {
   "cell_type": "markdown",
   "metadata": {},
   "source": [
    "### COM forces"
   ]
  },
  {
   "cell_type": "code",
   "execution_count": 54,
   "metadata": {},
   "outputs": [
    {
     "name": "stdout",
     "output_type": "stream",
     "text": [
      "COM force rad\n",
      "Mean: -0.02 pN\n",
      "SD: 9.78 pN\n",
      "SEM: 0.03 pN\n",
      "Median: -0.17 pN\n",
      "\n",
      "COM force theta\n",
      "Mean: -0.00 pN\n",
      "SD: 9.65 pN\n",
      "SEM: 0.03 pN\n",
      "Median: -0.01 pN\n",
      "\n",
      "COM force z\n",
      "Mean: -0.00 pN\n",
      "SD: 11.34 pN\n",
      "SEM: 0.03 pN\n",
      "Median: 0.00 pN\n"
     ]
    }
   ],
   "source": [
    "print('COM force rad')\n",
    "print('Mean: %.2f pN'%np.mean(snare_data_rad_arr_all))\n",
    "print('SD: %.2f pN'%np.std(snare_data_rad_arr_all))\n",
    "print('SEM: %.2f pN'%(np.std(snare_data_rad_arr_all)/np.sqrt(n_measurements/corr)))\n",
    "print('Median: %.2f pN'%np.median(snare_data_rad_arr_all))\n",
    "\n",
    "print('\\nCOM force theta')\n",
    "print('Mean: %.2f pN'%np.mean(snare_data_theta_arr_all))\n",
    "print('SD: %.2f pN'%np.std(snare_data_theta_arr_all))\n",
    "print('SEM: %.2f pN'%(np.std(snare_data_theta_arr_all)/np.sqrt(n_measurements/corr)))  \n",
    "print('Median: %.2f pN'%np.median(snare_data_theta_arr_all))\n",
    "\n",
    "print('\\nCOM force z')\n",
    "print('Mean: %.2f pN'%np.mean(snare_data_z_arr_all))\n",
    "print('SD: %.2f pN'%np.std(snare_data_z_arr_all))\n",
    "print('SEM: %.2f pN'%(np.std(snare_data_z_arr_all)/np.sqrt(n_measurements/corr)))\n",
    "print('Median: %.2f pN'%np.median(snare_data_z_arr_all))"
   ]
  },
  {
   "cell_type": "markdown",
   "metadata": {},
   "source": [
    "### Wall forces"
   ]
  },
  {
   "cell_type": "code",
   "execution_count": 55,
   "metadata": {},
   "outputs": [
    {
     "name": "stdout",
     "output_type": "stream",
     "text": [
      "Wall force f_rad\n",
      "Mean: 3.01 pN\n",
      "SD: 9.18 pN\n",
      "SEM: 0.02 pN\n",
      "Median: 2.84 pN\n",
      "\n",
      "Wall force f_theta\n",
      "Mean: 0.05 pN\n",
      "SD: 9.17 pN\n",
      "SEM: 0.02 pN\n",
      "Median: 0.03 pN\n",
      "\n",
      "Wall force f_z\n",
      "Mean: 0.02 pN\n",
      "SD: 11.07 pN\n",
      "SEM: 0.03 pN\n",
      "Median: 0.00 pN\n"
     ]
    }
   ],
   "source": [
    "print('Wall force f_rad')\n",
    "print('Mean: %.2f pN'%np.mean(snare_f_rad_arr_all))\n",
    "print('SD: %.2f pN'%np.std(snare_f_rad_arr_all))\n",
    "print('SEM: %.2f pN'%(np.std(snare_f_rad_arr_all)/np.sqrt(n_measurements/corr)))\n",
    "print('Median: %.2f pN'%np.median(snare_f_rad_arr_all))\n",
    "\n",
    "print('\\nWall force f_theta')\n",
    "print('Mean: %.2f pN'%np.mean(snare_f_theta_arr_all))\n",
    "print('SD: %.2f pN'%np.std(snare_f_theta_arr_all))\n",
    "print('SEM: %.2f pN'%(np.std(snare_f_theta_arr_all)/np.sqrt(n_measurements/corr)))\n",
    "print('Median: %.2f pN'%np.median(snare_f_theta_arr_all))\n",
    "\n",
    "print('\\nWall force f_z')\n",
    "print('Mean: %.2f pN'%np.mean(snare_f_z_arr_all))\n",
    "print('SD: %.2f pN'%np.std(snare_f_z_arr_all))\n",
    "print('SEM: %.2f pN'%(np.std(snare_f_z_arr_all)/np.sqrt(n_measurements/corr)))\n",
    "print('Median: %.2f pN'%np.median(snare_f_z_arr_all))"
   ]
  },
  {
   "cell_type": "markdown",
   "metadata": {},
   "source": [
    "### Linker forces"
   ]
  },
  {
   "cell_type": "code",
   "execution_count": 56,
   "metadata": {},
   "outputs": [
    {
     "name": "stdout",
     "output_type": "stream",
     "text": [
      "rad up linker force T_rad\n",
      "Mean: -1.47 pN\n",
      "SD: 5.49 pN\n",
      "SEM: 0.01 pN\n",
      "Median: -1.29 pN\n",
      "\n",
      "theta up linker force T_theta\n",
      "Mean: 0.06 pN\n",
      "SD: 5.48 pN\n",
      "SEM: 0.01 pN\n",
      "Median: 0.02 pN\n",
      "\n",
      "z up linker force T_z\n",
      "Mean: 15.99 pN\n",
      "SD: 5.57 pN\n",
      "SEM: 0.01 pN\n",
      "Median: 15.28 pN\n",
      "\n",
      "rad down linker force T_rad\n",
      "Mean: -1.56 pN\n",
      "SD: 5.54 pN\n",
      "SEM: 0.01 pN\n",
      "Median: -1.40 pN\n",
      "\n",
      "theta down linker force T_theta\n",
      "Mean: -0.11 pN\n",
      "SD: 5.54 pN\n",
      "SEM: 0.01 pN\n",
      "Median: -0.15 pN\n",
      "\n",
      "z down linker force T_z\n",
      "Mean: -16.01 pN\n",
      "SD: 5.51 pN\n",
      "SEM: 0.01 pN\n",
      "Median: -15.37 pN\n",
      "\n",
      "rad both linker forces T_rad\n",
      "Mean: -3.03 pN\n",
      "SD: 7.35 pN\n",
      "SEM: 0.02 pN\n",
      "Median: -2.91 pN\n",
      "\n",
      "theta both linker forces T_theta\n",
      "Mean: -0.05 pN\n",
      "SD: 7.36 pN\n",
      "SEM: 0.02 pN\n",
      "Median: -0.07 pN\n",
      "\n",
      "z both linker forces T_z\n",
      "Mean: -0.03 pN\n",
      "SD: 7.06 pN\n",
      "SEM: 0.02 pN\n",
      "Median: -0.03 pN\n",
      "\n",
      "Mean zippering force up T_up\n",
      "Mean: 17.68 pN\n",
      "SD: 6.02 pN\n",
      "SEM: 0.02 pN\n",
      "Median: 16.88 pN\n",
      "\n",
      "Mean zippering force down T_dn\n",
      "Mean: 17.76 pN\n",
      "SD: 5.93 pN\n",
      "SEM: 0.02 pN\n",
      "Median: 17.03 pN\n"
     ]
    }
   ],
   "source": [
    "# Up linker forces\n",
    "print('rad up linker force T_rad')\n",
    "print('Mean: %.2f pN'%np.mean(linker_up_f_rad_arr_all))\n",
    "print('SD: %.2f pN'%np.std(linker_up_f_rad_arr_all))\n",
    "print('SEM: %.2f pN'%(np.std(linker_up_f_rad_arr_all)/np.sqrt(n_measurements/corr)))\n",
    "print('Median: %.2f pN'%np.median(linker_up_f_rad_arr_all))\n",
    "\n",
    "print('\\ntheta up linker force T_theta')\n",
    "print('Mean: %.2f pN'%np.mean(linker_up_f_theta_arr_all))\n",
    "print('SD: %.2f pN'%np.std(linker_up_f_theta_arr_all))\n",
    "print('SEM: %.2f pN'%(np.std(linker_up_f_theta_arr_all)/np.sqrt(n_measurements/corr)))\n",
    "print('Median: %.2f pN'%np.median(linker_up_f_theta_arr_all))\n",
    "\n",
    "print('\\nz up linker force T_z')\n",
    "print('Mean: %.2f pN'%np.mean(linker_up_f_z_arr_all))\n",
    "print('SD: %.2f pN'%np.std(linker_up_f_z_arr_all))\n",
    "print('SEM: %.2f pN'%(np.std(linker_up_f_z_arr_all)/np.sqrt(n_measurements/corr)))\n",
    "print('Median: %.2f pN'%np.median(linker_up_f_z_arr_all))\n",
    "\n",
    "# Down linker forces\n",
    "print('\\nrad down linker force T_rad')\n",
    "print('Mean: %.2f pN'%np.mean(linker_dn_f_rad_arr_all))\n",
    "print('SD: %.2f pN'%np.std(linker_dn_f_rad_arr_all))\n",
    "print('SEM: %.2f pN'%(np.std(linker_dn_f_rad_arr_all)/np.sqrt(n_measurements/corr)))\n",
    "print('Median: %.2f pN'%np.median(linker_dn_f_rad_arr_all))\n",
    "\n",
    "print('\\ntheta down linker force T_theta')\n",
    "print('Mean: %.2f pN'%np.mean(linker_dn_f_theta_arr_all))\n",
    "print('SD: %.2f pN'%np.std(linker_dn_f_theta_arr_all))\n",
    "print('SEM: %.2f pN'%(np.std(linker_dn_f_theta_arr_all)/np.sqrt(n_measurements/corr)))\n",
    "print('Median: %.2f pN'%np.median(linker_dn_f_theta_arr_all))\n",
    "\n",
    "print('\\nz down linker force T_z')\n",
    "print('Mean: %.2f pN'%np.mean(linker_dn_f_z_arr_all))\n",
    "print('SD: %.2f pN'%np.std(linker_dn_f_z_arr_all))\n",
    "print('SEM: %.2f pN'%(np.std(linker_dn_f_z_arr_all)/np.sqrt(n_measurements/corr)))\n",
    "print('Median: %.2f pN'%np.median(linker_dn_f_z_arr_all))\n",
    "\n",
    "# Both linker forces\n",
    "print('\\nrad both linker forces T_rad')\n",
    "print('Mean: %.2f pN'%np.mean(linker_f_rad_arr_all))\n",
    "print('SD: %.2f pN'%np.std(linker_f_rad_arr_all))\n",
    "print('SEM: %.2f pN'%(np.std(linker_f_rad_arr_all)/np.sqrt(n_measurements/corr)))\n",
    "print('Median: %.2f pN'%np.median(linker_f_rad_arr_all))\n",
    "\n",
    "print('\\ntheta both linker forces T_theta')\n",
    "print('Mean: %.2f pN'%np.mean(linker_f_theta_arr_all))\n",
    "print('SD: %.2f pN'%np.std(linker_f_theta_arr_all))\n",
    "print('SEM: %.2f pN'%(np.std(linker_f_theta_arr_all)/np.sqrt(n_measurements/corr)))\n",
    "print('Median: %.2f pN'%np.median(linker_f_theta_arr_all))\n",
    "\n",
    "print('\\nz both linker forces T_z')\n",
    "print('Mean: %.2f pN'%np.mean(linker_f_z_arr_all))\n",
    "print('SD: %.2f pN'%np.std(linker_f_z_arr_all))\n",
    "print('SEM: %.2f pN'%(np.std(linker_f_z_arr_all)/np.sqrt(n_measurements/corr)))\n",
    "print('Median: %.2f pN'%np.median(linker_f_z_arr_all))\n",
    "\n",
    "# Zippering forces\n",
    "print('\\nMean zippering force up T_up')\n",
    "print('Mean: %.2f pN'%np.mean(linker_up_arr_all))\n",
    "print('SD: %.2f pN'%np.std(linker_up_arr_all))\n",
    "print('SEM: %.2f pN'%(np.std(linker_up_arr_all)/np.sqrt(n_measurements/corr)))\n",
    "print('Median: %.2f pN'%np.median(linker_up_arr_all))\n",
    "\n",
    "print('\\nMean zippering force down T_dn')\n",
    "print('Mean: %.2f pN'%np.mean(linker_dn_arr_all))\n",
    "print('SD: %.2f pN'%np.std(linker_dn_arr_all))\n",
    "print('SEM: %.2f pN'%(np.std(linker_dn_arr_all)/np.sqrt(n_measurements/corr)))\n",
    "print('Median: %.2f pN'%np.median(linker_dn_arr_all))"
   ]
  },
  {
   "cell_type": "markdown",
   "metadata": {},
   "source": [
    "## AVERAGES OVER EACH SNARE"
   ]
  },
  {
   "cell_type": "markdown",
   "metadata": {},
   "source": [
    "### COM forces"
   ]
  },
  {
   "cell_type": "code",
   "execution_count": 57,
   "metadata": {},
   "outputs": [
    {
     "data": {
      "text/plain": [
       "\"\\nprint('COM force rad')\\nprint('Mean (pN): ', np.mean(snare_data_rad_arr_all, axis=0))\\nprint('SD (pN): ', np.std(snare_data_rad_arr_all, axis=0))\\nprint('SEM (pN): ', (np.std(snare_data_rad_arr_all, axis=0)/np.sqrt(n_measurements/corr)))\\nprint('Median (pN): ', np.median(snare_data_rad_arr_all, axis=0))\\n\\nprint('\\nCOM force theta')\\nprint('Mean (pN): ', np.mean(snare_data_theta_arr_all, axis=0))\\nprint('SD (pN): ', np.std(snare_data_theta_arr_all, axis=0))\\nprint('SEM (pN): ', (np.std(snare_data_theta_arr_all, axis=0)/np.sqrt(n_measurements/corr)))\\nprint('Median (pN): ', np.median(snare_data_theta_arr_all, axis=0))\\n\\nprint('\\nCOM force z')\\nprint('Mean (pN): ', np.mean(snare_data_z_arr_all, axis=0))\\nprint('SD (pN): ', np.std(snare_data_z_arr_all, axis=0))\\nprint('SEM (pN): ', (np.std(snare_data_z_arr_all, axis=0)/np.sqrt(n_measurements/corr)))\\nprint('Median (pN): ', np.median(snare_data_z_arr_all, axis=0))\\n\""
      ]
     },
     "execution_count": 57,
     "metadata": {},
     "output_type": "execute_result"
    }
   ],
   "source": [
    "'''\n",
    "print('COM force rad')\n",
    "print('Mean (pN): ', np.mean(snare_data_rad_arr_all, axis=0))\n",
    "print('SD (pN): ', np.std(snare_data_rad_arr_all, axis=0))\n",
    "print('SEM (pN): ', (np.std(snare_data_rad_arr_all, axis=0)/np.sqrt(n_measurements/corr)))\n",
    "print('Median (pN): ', np.median(snare_data_rad_arr_all, axis=0))\n",
    "\n",
    "print('\\nCOM force theta')\n",
    "print('Mean (pN): ', np.mean(snare_data_theta_arr_all, axis=0))\n",
    "print('SD (pN): ', np.std(snare_data_theta_arr_all, axis=0))\n",
    "print('SEM (pN): ', (np.std(snare_data_theta_arr_all, axis=0)/np.sqrt(n_measurements/corr)))\n",
    "print('Median (pN): ', np.median(snare_data_theta_arr_all, axis=0))\n",
    "\n",
    "print('\\nCOM force z')\n",
    "print('Mean (pN): ', np.mean(snare_data_z_arr_all, axis=0))\n",
    "print('SD (pN): ', np.std(snare_data_z_arr_all, axis=0))\n",
    "print('SEM (pN): ', (np.std(snare_data_z_arr_all, axis=0)/np.sqrt(n_measurements/corr)))\n",
    "print('Median (pN): ', np.median(snare_data_z_arr_all, axis=0))\n",
    "'''"
   ]
  },
  {
   "cell_type": "markdown",
   "metadata": {},
   "source": [
    "### Wall forces"
   ]
  },
  {
   "cell_type": "code",
   "execution_count": 58,
   "metadata": {},
   "outputs": [
    {
     "data": {
      "text/plain": [
       "\"\\nprint('Wall force f_rad')\\nprint('Mean (pN): ', np.mean(snare_f_rad_arr_all, axis=0))\\nprint('SD (pN): ', np.std(snare_f_rad_arr_all, axis=0))\\nprint('SEM (pN): ', (np.std(snare_f_rad_arr_all, axis=0)/np.sqrt(n_measurements/corr)))\\nprint('Median (pN): ', np.median(snare_f_rad_arr_all, axis=0))\\n\\nprint('\\nWall force f_theta')\\nprint('Mean (pN): ', np.mean(snare_f_theta_arr_all, axis=0))\\nprint('SD (pN): ', np.std(snare_f_theta_arr_all, axis=0))\\nprint('SEM (pN): ', (np.std(snare_f_theta_arr_all, axis=0)/np.sqrt(n_measurements/corr)))\\nprint('Median (pN): ', np.median(snare_f_theta_arr_all, axis=0))\\n\\nprint('\\nWall force f_z')\\nprint('Mean (pN): ', np.mean(snare_f_z_arr_all, axis=0))\\nprint('SD (pN): ', np.std(snare_f_z_arr_all, axis=0))\\nprint('SEM (pN): ', (np.std(snare_f_z_arr_all, axis=0)/np.sqrt(n_measurements/corr)))\\nprint('Median (pN): ', np.median(snare_f_z_arr_all, axis=0))\\n\""
      ]
     },
     "execution_count": 58,
     "metadata": {},
     "output_type": "execute_result"
    }
   ],
   "source": [
    "'''\n",
    "print('Wall force f_rad')\n",
    "print('Mean (pN): ', np.mean(snare_f_rad_arr_all, axis=0))\n",
    "print('SD (pN): ', np.std(snare_f_rad_arr_all, axis=0))\n",
    "print('SEM (pN): ', (np.std(snare_f_rad_arr_all, axis=0)/np.sqrt(n_measurements/corr)))\n",
    "print('Median (pN): ', np.median(snare_f_rad_arr_all, axis=0))\n",
    "\n",
    "print('\\nWall force f_theta')\n",
    "print('Mean (pN): ', np.mean(snare_f_theta_arr_all, axis=0))\n",
    "print('SD (pN): ', np.std(snare_f_theta_arr_all, axis=0))\n",
    "print('SEM (pN): ', (np.std(snare_f_theta_arr_all, axis=0)/np.sqrt(n_measurements/corr)))\n",
    "print('Median (pN): ', np.median(snare_f_theta_arr_all, axis=0))\n",
    "\n",
    "print('\\nWall force f_z')\n",
    "print('Mean (pN): ', np.mean(snare_f_z_arr_all, axis=0))\n",
    "print('SD (pN): ', np.std(snare_f_z_arr_all, axis=0))\n",
    "print('SEM (pN): ', (np.std(snare_f_z_arr_all, axis=0)/np.sqrt(n_measurements/corr)))\n",
    "print('Median (pN): ', np.median(snare_f_z_arr_all, axis=0))\n",
    "'''"
   ]
  },
  {
   "cell_type": "markdown",
   "metadata": {},
   "source": [
    "### Linker forces"
   ]
  },
  {
   "cell_type": "code",
   "execution_count": 59,
   "metadata": {},
   "outputs": [
    {
     "data": {
      "text/plain": [
       "\"\\nprint('\\nrad up linker force T_rad')\\nprint('Mean (pN): ', np.mean(linker_up_f_rad_arr_all, axis=0))\\nprint('SD (pN): ', np.std(linker_up_f_rad_arr_all, axis=0))\\nprint('SEM (pN): ', (np.std(linker_up_f_rad_arr_all, axis=0)/np.sqrt(n_measurements/corr)))\\nprint('Median (pN): ', np.median(linker_up_f_rad_arr_all, axis=0))\\n\\nprint('\\ntheta up linker force T_theta')\\nprint('Mean (pN): ', np.mean(linker_up_f_theta_arr_all, axis=0))\\nprint('SD (pN): ', np.std(linker_up_f_theta_arr_all, axis=0))\\nprint('SEM (pN): ', (np.std(linker_up_f_theta_arr_all, axis=0)/np.sqrt(n_measurements/corr)))\\nprint('Median (pN): ', np.median(linker_up_f_theta_arr_all, axis=0))\\n\\nprint('\\nz up linker force T_z')\\nprint('Mean (pN): ', np.mean(linker_up_f_z_arr_all, axis=0))\\nprint('SD (pN): ', np.std(linker_up_f_z_arr_all, axis=0))\\nprint('SEM (pN): ', (np.std(linker_up_f_z_arr_all, axis=0)/np.sqrt(n_measurements/corr)))\\nprint('Median (pN): ', np.median(linker_up_f_z_arr_all, axis=0))\\n\\nprint('\\nrad down linker force T_rad')\\nprint('Mean (pN): ', np.mean(linker_dn_f_rad_arr_all, axis=0))\\nprint('SD (pN): ', np.std(linker_dn_f_rad_arr_all, axis=0))\\nprint('SEM (pN): ', (np.std(linker_dn_f_rad_arr_all, axis=0)/np.sqrt(n_measurements/corr)))\\nprint('Median (pN): ', np.median(linker_dn_f_rad_arr_all, axis=0))\\n\\nprint('\\ntheta down linker force T_theta')\\nprint('Mean (pN): ', np.mean(linker_dn_f_theta_arr_all, axis=0))\\nprint('SD (pN): ', np.std(linker_dn_f_theta_arr_all, axis=0))\\nprint('SEM (pN): ', (np.std(linker_dn_f_theta_arr_all, axis=0)/np.sqrt(n_measurements/corr)))\\nprint('Median (pN): ', np.median(linker_dn_f_theta_arr_all, axis=0))\\n\\nprint('\\nz down linker force T_z')\\nprint('Mean (pN): ', np.mean(linker_dn_f_z_arr_all, axis=0))\\nprint('SD (pN): ', np.std(linker_dn_f_z_arr_all, axis=0))\\nprint('SEM (pN): ', (np.std(linker_dn_f_z_arr_all, axis=0)/np.sqrt(n_measurements/corr)))\\nprint('Median (pN): ', np.median(linker_dn_f_z_arr_all, axis=0))\\n\\nprint('\\nrad both linker forces T_rad')\\nprint('Mean (pN): ', np.mean(linker_f_rad_arr_all, axis=0))\\nprint('SD (pN): ', np.std(linker_f_rad_arr_all, axis=0))\\nprint('SEM (pN): ', (np.std(linker_f_rad_arr_all, axis=0)/np.sqrt(n_measurements/corr)))\\nprint('Median (pN): ', np.median(linker_f_rad_arr_all, axis=0))\\n\\nprint('\\ntheta both linker forces T_theta')\\nprint('Mean (pN): ', np.mean(linker_f_theta_arr_all, axis=0))\\nprint('SD (pN): ', np.std(linker_f_theta_arr_all, axis=0))\\nprint('SEM (pN): ', (np.std(linker_f_theta_arr_all, axis=0)/np.sqrt(n_measurements/corr)))\\nprint('Median (pN): ', np.median(linker_f_theta_arr_all, axis=0))\\n\\nprint('\\nz both linker forces T_z')\\nprint('Mean (pN): ', np.mean(linker_f_z_arr_all, axis=0))\\nprint('SD (pN): ', np.std(linker_f_z_arr_all, axis=0))\\nprint('SEM (pN): ', (np.std(linker_f_z_arr_all, axis=0)/np.sqrt(n_measurements/corr)))\\nprint('Median (pN): ', np.median(linker_f_z_arr_all, axis=0))\\n\""
      ]
     },
     "execution_count": 59,
     "metadata": {},
     "output_type": "execute_result"
    }
   ],
   "source": [
    "'''\n",
    "print('\\nrad up linker force T_rad')\n",
    "print('Mean (pN): ', np.mean(linker_up_f_rad_arr_all, axis=0))\n",
    "print('SD (pN): ', np.std(linker_up_f_rad_arr_all, axis=0))\n",
    "print('SEM (pN): ', (np.std(linker_up_f_rad_arr_all, axis=0)/np.sqrt(n_measurements/corr)))\n",
    "print('Median (pN): ', np.median(linker_up_f_rad_arr_all, axis=0))\n",
    "\n",
    "print('\\ntheta up linker force T_theta')\n",
    "print('Mean (pN): ', np.mean(linker_up_f_theta_arr_all, axis=0))\n",
    "print('SD (pN): ', np.std(linker_up_f_theta_arr_all, axis=0))\n",
    "print('SEM (pN): ', (np.std(linker_up_f_theta_arr_all, axis=0)/np.sqrt(n_measurements/corr)))\n",
    "print('Median (pN): ', np.median(linker_up_f_theta_arr_all, axis=0))\n",
    "\n",
    "print('\\nz up linker force T_z')\n",
    "print('Mean (pN): ', np.mean(linker_up_f_z_arr_all, axis=0))\n",
    "print('SD (pN): ', np.std(linker_up_f_z_arr_all, axis=0))\n",
    "print('SEM (pN): ', (np.std(linker_up_f_z_arr_all, axis=0)/np.sqrt(n_measurements/corr)))\n",
    "print('Median (pN): ', np.median(linker_up_f_z_arr_all, axis=0))\n",
    "\n",
    "print('\\nrad down linker force T_rad')\n",
    "print('Mean (pN): ', np.mean(linker_dn_f_rad_arr_all, axis=0))\n",
    "print('SD (pN): ', np.std(linker_dn_f_rad_arr_all, axis=0))\n",
    "print('SEM (pN): ', (np.std(linker_dn_f_rad_arr_all, axis=0)/np.sqrt(n_measurements/corr)))\n",
    "print('Median (pN): ', np.median(linker_dn_f_rad_arr_all, axis=0))\n",
    "\n",
    "print('\\ntheta down linker force T_theta')\n",
    "print('Mean (pN): ', np.mean(linker_dn_f_theta_arr_all, axis=0))\n",
    "print('SD (pN): ', np.std(linker_dn_f_theta_arr_all, axis=0))\n",
    "print('SEM (pN): ', (np.std(linker_dn_f_theta_arr_all, axis=0)/np.sqrt(n_measurements/corr)))\n",
    "print('Median (pN): ', np.median(linker_dn_f_theta_arr_all, axis=0))\n",
    "\n",
    "print('\\nz down linker force T_z')\n",
    "print('Mean (pN): ', np.mean(linker_dn_f_z_arr_all, axis=0))\n",
    "print('SD (pN): ', np.std(linker_dn_f_z_arr_all, axis=0))\n",
    "print('SEM (pN): ', (np.std(linker_dn_f_z_arr_all, axis=0)/np.sqrt(n_measurements/corr)))\n",
    "print('Median (pN): ', np.median(linker_dn_f_z_arr_all, axis=0))\n",
    "\n",
    "print('\\nrad both linker forces T_rad')\n",
    "print('Mean (pN): ', np.mean(linker_f_rad_arr_all, axis=0))\n",
    "print('SD (pN): ', np.std(linker_f_rad_arr_all, axis=0))\n",
    "print('SEM (pN): ', (np.std(linker_f_rad_arr_all, axis=0)/np.sqrt(n_measurements/corr)))\n",
    "print('Median (pN): ', np.median(linker_f_rad_arr_all, axis=0))\n",
    "\n",
    "print('\\ntheta both linker forces T_theta')\n",
    "print('Mean (pN): ', np.mean(linker_f_theta_arr_all, axis=0))\n",
    "print('SD (pN): ', np.std(linker_f_theta_arr_all, axis=0))\n",
    "print('SEM (pN): ', (np.std(linker_f_theta_arr_all, axis=0)/np.sqrt(n_measurements/corr)))\n",
    "print('Median (pN): ', np.median(linker_f_theta_arr_all, axis=0))\n",
    "\n",
    "print('\\nz both linker forces T_z')\n",
    "print('Mean (pN): ', np.mean(linker_f_z_arr_all, axis=0))\n",
    "print('SD (pN): ', np.std(linker_f_z_arr_all, axis=0))\n",
    "print('SEM (pN): ', (np.std(linker_f_z_arr_all, axis=0)/np.sqrt(n_measurements/corr)))\n",
    "print('Median (pN): ', np.median(linker_f_z_arr_all, axis=0))\n",
    "'''"
   ]
  },
  {
   "cell_type": "code",
   "execution_count": 60,
   "metadata": {},
   "outputs": [],
   "source": [
    "# Get the C-term position in cartesial coords relative to the TMD position\n",
    "#snare_ctd_pos_arr_all_rel_tmd = snare_ctd_pos_arr_all - tmd_pos_avg_arr"
   ]
  },
  {
   "cell_type": "code",
   "execution_count": 61,
   "metadata": {},
   "outputs": [],
   "source": [
    "# Convert the C terminal positions to polar coordinates given the unit vector in the radial direction\n",
    "#snare_ctd_pos_rad_arr_all, snare_ctd_pos_theta_arr_all = get_polar_pos(snare_ctd_pos_arr_all_rel_tmd, ld_dir_rad_x, ld_dir_rad_y, ld_dir_theta_x, ld_dir_theta_y) "
   ]
  },
  {
   "cell_type": "markdown",
   "metadata": {},
   "source": [
    "# SAVE DATA"
   ]
  },
  {
   "cell_type": "code",
   "execution_count": 62,
   "metadata": {},
   "outputs": [],
   "source": [
    "ring_rad_avg = np.mean(ring_radius_arr)\n",
    "ring_rad_std = np.std(ring_radius_arr)\n",
    "\n",
    "T_zip_avg = np.mean((linker_up_arr_all+linker_dn_arr_all)/2) \n",
    "T_zip_std = np.std((linker_up_arr_all+linker_dn_arr_all)/2)\n",
    "\n",
    "F_squeeze_up = np.sum(linker_up_f_z_arr_all, axis = 1)\n",
    "F_squeeze_dn = np.sum(linker_dn_f_z_arr_all, axis = 1)\n",
    "F_squeeze_avg = np.mean((F_squeeze_up - F_squeeze_dn)/2)\n",
    "F_squeeze_std = np.std((F_squeeze_up - F_squeeze_dn)/2)\n",
    "\n",
    "f_squeeze_avg = np.mean((linker_up_f_z_arr_all - linker_dn_f_z_arr_all)/2)\n",
    "f_squeeze_std = np.std((linker_up_f_z_arr_all - linker_dn_f_z_arr_all)/2)\n",
    "\n",
    "T_rad_tot_avg = np.mean(linker_f_rad_arr_all)\n",
    "T_rad_tot_std = np.std(linker_f_rad_arr_all)\n",
    "T_theta_tot_avg = np.mean(linker_f_theta_arr_all)\n",
    "T_theta_tot_std = np.std(linker_f_theta_arr_all)\n",
    "\n",
    "fent_rad_avg = np.mean(snare_f_rad_arr_all)\n",
    "fent_rad_std = np.std(snare_f_rad_arr_all)\n",
    "fent_theta_avg = np.mean(snare_f_theta_arr_all)\n",
    "fent_theta_std = np.std(snare_f_theta_arr_all)\n",
    "fent_z_avg = np.mean(snare_f_z_arr_all)\n",
    "fent_z_std = np.std(snare_f_z_arr_all)"
   ]
  },
  {
   "cell_type": "code",
   "execution_count": 63,
   "metadata": {},
   "outputs": [
    {
     "name": "stdout",
     "output_type": "stream",
     "text": [
      "3.8655158804131684\n"
     ]
    }
   ],
   "source": [
    "print(ring_rad_avg)"
   ]
  },
  {
   "cell_type": "code",
   "execution_count": 64,
   "metadata": {},
   "outputs": [],
   "source": [
    "# Save the data to a .txt file\n",
    "\n",
    "fname = 'force_data_nostaple_nrod_%d_rtmd_ini_%.2f_31aug.txt'%(nrod, rtmd_arr[index])\n",
    "\n",
    "with open(fname, 'w') as file:\n",
    "    file.write(\"Number of SNAREs\\n\")\n",
    "    file.write(f\"{nrod}\\n\")\n",
    "    file.write(\"TMD ring constraint (nm)\\n\")\n",
    "    file.write(f\"{rtmd_arr[index]*0.88}\\n\")\n",
    "    file.write(\"Number of measurements per SNARE\\n\")\n",
    "    file.write(f\"{n_measurements}\\n\")\n",
    "    file.write(\"TMD ring radius (nm)\\n\")\n",
    "    file.write(f\"{ring_rad_avg}\\n\")\n",
    "    file.write(f\"{ring_rad_std}\\n\")\n",
    "    file.write(\"Zippering force per LD (pN)\\n\")\n",
    "    file.write(f\"{T_zip_avg}\\n\")\n",
    "    file.write(f\"{T_zip_std}\\n\")\n",
    "    file.write(\"Total squeezing force (pN)\\n\")\n",
    "    file.write(f\"{F_squeeze_avg}\\n\")\n",
    "    file.write(f\"{F_squeeze_std}\\n\")\n",
    "    file.write(\"Squeezing force per LD (pN)\\n\")\n",
    "    file.write(f\"{f_squeeze_avg}\\n\")\n",
    "    file.write(f\"{f_squeeze_std}\\n\")\n",
    "    file.write(\"Radial linker force (both LDs) (pN)\\n\")\n",
    "    file.write(f\"{T_rad_tot_avg}\\n\")\n",
    "    file.write(f\"{T_rad_tot_std}\\n\")\n",
    "    file.write(\"Theta linker force (both LDs) (pN)\\n\")\n",
    "    file.write(f\"{T_theta_tot_avg}\\n\")\n",
    "    file.write(f\"{T_theta_tot_std}\\n\")\n",
    "    file.write(\"Radial entropic force (pN)\\n\")\n",
    "    file.write(f\"{fent_rad_avg}\\n\")\n",
    "    file.write(f\"{fent_rad_std}\\n\")\n",
    "    file.write(\"Theta entropic force (pN)\\n\")\n",
    "    file.write(f\"{fent_theta_avg}\\n\")\n",
    "    file.write(f\"{fent_theta_std}\\n\")\n",
    "    file.write(\"Z entropic force (pN)\\n\")\n",
    "    file.write(f\"{fent_z_avg}\\n\")\n",
    "    file.write(f\"{fent_z_std}\\n\")\n"
   ]
  },
  {
   "cell_type": "markdown",
   "metadata": {},
   "source": [
    "# PLOTS"
   ]
  },
  {
   "cell_type": "code",
   "execution_count": 65,
   "metadata": {},
   "outputs": [
    {
     "name": "stdout",
     "output_type": "stream",
     "text": [
      "(147501,)\n"
     ]
    }
   ],
   "source": [
    "# Plot settings\n",
    "interval = 1 # plotting interval;\n",
    "#t_plot = np.arange(t_start, t_stop-2900)*dt_save*0.068*1e-3 # in microseconds\n",
    "t_plot = np.arange(0, linker_f_rad_arr_all.shape[0])*check_period*0.068*1e-3 # in microseconds\n",
    "print(t_plot.shape)"
   ]
  },
  {
   "cell_type": "code",
   "execution_count": 66,
   "metadata": {},
   "outputs": [],
   "source": [
    "isnare = 5"
   ]
  },
  {
   "cell_type": "code",
   "execution_count": 67,
   "metadata": {},
   "outputs": [
    {
     "data": {
      "image/png": "[encoded data removed]",
      "text/plain": [
       "<Figure size 640x480 with 1 Axes>"
      ]
     },
     "metadata": {},
     "output_type": "display_data"
    }
   ],
   "source": [
    "# Plot the mean TMD ring radius\n",
    "ring_radius_arr_avg = np.mean(ring_radius_arr, axis=1)\n",
    "ring_rad_interval = np.std(ring_radius_arr, axis=1)\n",
    "\n",
    "plt.figure()\n",
    "plt.plot(t_plot, ring_radius_arr_avg, color='g')\n",
    "plt.fill_between(t_plot, ring_radius_arr_avg - ring_rad_interval, ring_radius_arr_avg + ring_rad_interval, color='g', alpha=0.3, edgecolor='none')\n",
    "plt.xlabel('Time ($\\mu$s)', fontdict=font_axis)\n",
    "plt.ylabel('TMD ring radius(nm)', fontdict=font_axis)\n",
    "#plt.title('Ring radius', fontdict=font_title)\n",
    "#plt.xlim(0,1)\n",
    "plt.ylim(0,8)\n",
    "#plt.legend()\n",
    "plt.show()\n"
   ]
  },
  {
   "cell_type": "code",
   "execution_count": 68,
   "metadata": {},
   "outputs": [],
   "source": [
    "window_size = 500\n",
    "ring_radius_movavg = np.convolve(ring_radius_arr_avg, np.ones(window_size)/window_size, mode='valid')\n",
    "ring_radius_movstd = np.array([np.std(ring_radius_arr_avg[i:i+window_size]) for i in range(len(ring_radius_arr_avg) - window_size + 1)])\n",
    "# Adjust t_plot to match the length of the moving average\n",
    "t_plot_movavg = t_plot[(window_size-1):]  # Adjust time array to match the moving average length"
   ]
  },
  {
   "cell_type": "code",
   "execution_count": 69,
   "metadata": {},
   "outputs": [
    {
     "data": {
      "image/png": "[encoded data removed]",
      "text/plain": [
       "<Figure size 640x480 with 1 Axes>"
      ]
     },
     "metadata": {},
     "output_type": "display_data"
    }
   ],
   "source": [
    "plt.figure()\n",
    "plt.plot(t_plot_movavg, ring_radius_movavg, color='g')\n",
    "plt.fill_between(t_plot_movavg, ring_radius_movavg - ring_radius_movstd, ring_radius_movavg + ring_radius_movstd, color='g', alpha=0.2, label='±1 SD')\n",
    "#plt.fill_between(t_plot, ring_radius_arr_avg - ring_rad_interval, ring_radius_arr_avg + ring_rad_interval, color='g', alpha=0.3, edgecolor='none')\n",
    "#plt.fill_between(t_plot, ring_radius_arr_avg - ring_rad_interval, ring_radius_arr_avg + ring_rad_interval, color='g', alpha=0.3)\n",
    "plt.xlabel('Time ($\\mu$s)', fontdict=font_axis)\n",
    "plt.ylabel('TMD ring radius(nm)', fontdict=font_axis)\n",
    "#plt.title('Ring radius', fontdict=font_title)\n",
    "#plt.xlim(0,1000)\n",
    "plt.ylim(0,8)\n",
    "#plt.legend()\n",
    "plt.show()"
   ]
  },
  {
   "cell_type": "code",
   "execution_count": 70,
   "metadata": {},
   "outputs": [
    {
     "name": "stdout",
     "output_type": "stream",
     "text": [
      "(147002, 3)\n"
     ]
    }
   ],
   "source": [
    "from scipy.io import savemat\n",
    "zip1 = np.concatenate((t_plot_movavg[:, np.newaxis],ring_radius_movavg[:,np.newaxis]),axis = 1)\n",
    "zip1 = np.concatenate((zip1, ring_radius_movstd[:,np.newaxis]), axis = 1)\n",
    "print(np.shape(zip1))\n",
    "# Save entropic force to a .mat file\n",
    "savemat(file_prefix + 'ring_rad_movavg.mat', {'array': zip1})"
   ]
  },
  {
   "cell_type": "code",
   "execution_count": 71,
   "metadata": {},
   "outputs": [
    {
     "name": "stdout",
     "output_type": "stream",
     "text": [
      "(147501, 2)\n"
     ]
    }
   ],
   "source": [
    "zip2 = np.concatenate((t_plot[:, np.newaxis],(snare_f_rad_arr_all[:,isnare])[:,np.newaxis]),axis = 1)\n",
    "print(np.shape(zip2))\n",
    "savemat(file_prefix + 'fent_rad.mat', {'array': zip2})"
   ]
  },
  {
   "cell_type": "code",
   "execution_count": 72,
   "metadata": {},
   "outputs": [
    {
     "name": "stdout",
     "output_type": "stream",
     "text": [
      "2.9562204211982137\n"
     ]
    }
   ],
   "source": [
    "print(np.mean(snare_f_rad_arr_all[75000:-1,isnare]))"
   ]
  },
  {
   "cell_type": "code",
   "execution_count": 73,
   "metadata": {},
   "outputs": [
    {
     "data": {
      "text/plain": [
       "\"\\nplt.plot(snare_ctd_pos_rad_arr_all[:, isnare], linker_f_rad_arr_all[:, isnare], 'o', markersize=1)\\nplt.xlabel('r (nm)', fontdict=font_axis)\\nplt.ylabel('Radial linker force (pN)', fontdict=font_axis)\\nplt.title('Radial linker force vs radial C-term position')\\nplt.xlim(-1, 2.5)\\nplt.ylim(-80, 20)\\n\""
      ]
     },
     "execution_count": 73,
     "metadata": {},
     "output_type": "execute_result"
    }
   ],
   "source": [
    "'''\n",
    "plt.plot(snare_ctd_pos_rad_arr_all[:, isnare], linker_f_rad_arr_all[:, isnare], 'o', markersize=1)\n",
    "plt.xlabel('r (nm)', fontdict=font_axis)\n",
    "plt.ylabel('Radial linker force (pN)', fontdict=font_axis)\n",
    "plt.title('Radial linker force vs radial C-term position')\n",
    "plt.xlim(-1, 2.5)\n",
    "plt.ylim(-80, 20)\n",
    "'''"
   ]
  },
  {
   "cell_type": "code",
   "execution_count": 74,
   "metadata": {},
   "outputs": [
    {
     "data": {
      "text/plain": [
       "\"\\nplt.figure()\\ncounts2, x_edges2, y_edges2, patches2 = plt.hist2d(snare_ctd_pos_rad_arr_all[:, isnare], linker_f_rad_arr_all[:, isnare], bins=(np.arange(-100, 100, 0.02), np.arange(-100, 100, 1)), cmap='viridis', density=True)\\nplt.xlabel('r (nm)', fontdict=font_axis)\\nplt.ylabel('Radial linker force (pN)', fontdict=font_axis)\\nplt.ylim(-30,10)\\nplt.xlim(-1,2.5)\\nplt.title('Radial linker force vs radial C-term position')\\n# Set equal aspect ratio\\n#plt.gca().set_aspect('equal', adjustable='box')\\ncbar = plt.colorbar()\\ncbar.set_label('Probability density')\\n\""
      ]
     },
     "execution_count": 74,
     "metadata": {},
     "output_type": "execute_result"
    }
   ],
   "source": [
    "# Plot a 2D histogram of the radial linker force vs radial position\n",
    "'''\n",
    "plt.figure()\n",
    "counts2, x_edges2, y_edges2, patches2 = plt.hist2d(snare_ctd_pos_rad_arr_all[:, isnare], linker_f_rad_arr_all[:, isnare], bins=(np.arange(-100, 100, 0.02), np.arange(-100, 100, 1)), cmap='viridis', density=True)\n",
    "plt.xlabel('r (nm)', fontdict=font_axis)\n",
    "plt.ylabel('Radial linker force (pN)', fontdict=font_axis)\n",
    "plt.ylim(-30,10)\n",
    "plt.xlim(-1,2.5)\n",
    "plt.title('Radial linker force vs radial C-term position')\n",
    "# Set equal aspect ratio\n",
    "#plt.gca().set_aspect('equal', adjustable='box')\n",
    "cbar = plt.colorbar()\n",
    "cbar.set_label('Probability density')\n",
    "'''"
   ]
  },
  {
   "cell_type": "code",
   "execution_count": 75,
   "metadata": {},
   "outputs": [
    {
     "data": {
      "text/plain": [
       "\"\\n#plt.hist(snare_f_rad_arr_all[:,isnare], bins=np.arange(-100,101,2), density=True, alpha=0.6, color='g', label='Radial SNARE force')\\n#plt.hist(-(linker_up_f_rad_arr_all[:,isnare]), bins=np.arange(-100,101,2), density=True, alpha=0.4, color='b', label='Top radial linker force')\\n#plt.hist(-(linker_dn_f_rad_arr_all[:,isnare]), bins=np.arange(-100,101,2), density=True, alpha=0.4, color='r', label='Bottom radial linker force')\\nplt.hist(linker_f_rad_arr_all[:,isnare], bins=np.arange(-100,101,2), density=True, alpha=1, color='b', label='Total radial linker force')\\n#plt.axvline(x=-7, color='r', linestyle='--')\\nplt.xlabel('Force (pN)', fontdict=font_axis)\\nplt.ylabel('Probability density', fontdict=font_axis)\\nplt.title('Radial linker force', fontdict=font_title)\\nplt.xlim(-60, 60)\\nplt.ylim(0, 0.12)\\n#plt.legend()\\nplt.show()\\n\""
      ]
     },
     "execution_count": 75,
     "metadata": {},
     "output_type": "execute_result"
    }
   ],
   "source": [
    "# Plot the radial linker force distribution for one snare\n",
    "'''\n",
    "#plt.hist(snare_f_rad_arr_all[:,isnare], bins=np.arange(-100,101,2), density=True, alpha=0.6, color='g', label='Radial SNARE force')\n",
    "#plt.hist(-(linker_up_f_rad_arr_all[:,isnare]), bins=np.arange(-100,101,2), density=True, alpha=0.4, color='b', label='Top radial linker force')\n",
    "#plt.hist(-(linker_dn_f_rad_arr_all[:,isnare]), bins=np.arange(-100,101,2), density=True, alpha=0.4, color='r', label='Bottom radial linker force')\n",
    "plt.hist(linker_f_rad_arr_all[:,isnare], bins=np.arange(-100,101,2), density=True, alpha=1, color='b', label='Total radial linker force')\n",
    "#plt.axvline(x=-7, color='r', linestyle='--')\n",
    "plt.xlabel('Force (pN)', fontdict=font_axis)\n",
    "plt.ylabel('Probability density', fontdict=font_axis)\n",
    "plt.title('Radial linker force', fontdict=font_title)\n",
    "plt.xlim(-60, 60)\n",
    "plt.ylim(0, 0.12)\n",
    "#plt.legend()\n",
    "plt.show()\n",
    "'''"
   ]
  },
  {
   "cell_type": "code",
   "execution_count": 76,
   "metadata": {},
   "outputs": [
    {
     "data": {
      "text/plain": [
       "\"\\nplt.hist(snare_ctd_pos_rad_arr_all[:,isnare], bins=np.arange(-10,10,0.1), density=True, alpha=1, color='g')\\n#plt.axvline(x=snare_ctd_pos_rad_equil_avg, color='r', linestyle='--')\\nplt.xlabel('r (nm)', fontdict=font_axis)\\nplt.ylabel('Probability density', fontdict=font_axis)\\nplt.title('Radial C-term position', fontdict=font_title)\\nplt.xlim(-1, 3)\\nplt.ylim(0, 1.7)\\n\""
      ]
     },
     "execution_count": 76,
     "metadata": {},
     "output_type": "execute_result"
    }
   ],
   "source": [
    "# Plot the radial CTD positional distribution for one snare\n",
    "'''\n",
    "plt.hist(snare_ctd_pos_rad_arr_all[:,isnare], bins=np.arange(-10,10,0.1), density=True, alpha=1, color='g')\n",
    "#plt.axvline(x=snare_ctd_pos_rad_equil_avg, color='r', linestyle='--')\n",
    "plt.xlabel('r (nm)', fontdict=font_axis)\n",
    "plt.ylabel('Probability density', fontdict=font_axis)\n",
    "plt.title('Radial C-term position', fontdict=font_title)\n",
    "plt.xlim(-1, 3)\n",
    "plt.ylim(0, 1.7)\n",
    "'''"
   ]
  },
  {
   "cell_type": "code",
   "execution_count": 77,
   "metadata": {},
   "outputs": [
    {
     "data": {
      "text/plain": [
       "\"\\nplt.plot(t_plot, snare_f_rad_arr_all[:,isnare], color='g', label='Radial SNARE force')\\n#plt.plot(-(linker_up_f_rad_arr_all[:,isnare]), bins=np.arange(-100,101,2), density=True, alpha=0.4, color='b', label='Top radial linker force')\\n#plt.plot(-(linker_dn_f_rad_arr_all[:,isnare]), bins=np.arange(-100,101,2), density=True, alpha=0.4, color='r', label='Bottom radial linker force')\\nplt.plot(t_plot, (linker_f_rad_arr_all[:,isnare]), color='b', label='Total radial linker force')\\n#plt.plot(t_plot, -(linker_f_theta_arr_all[:,isnare]), color='r', label='Total tangential linker force')\\nplt.xlabel('Time (microsec)', fontdict=font_axis)\\nplt.ylabel('Force(pN)', fontdict=font_axis)\\nplt.title('Radial linker force', fontdict=font_title)\\nplt.xlim(0, 4)\\nplt.ylim(0,40)\\n#plt.ylim(-60,20)\\n#plt.legend()\\nplt.show()\\n\""
      ]
     },
     "execution_count": 77,
     "metadata": {},
     "output_type": "execute_result"
    }
   ],
   "source": [
    "# Plot the radial linker force time trace for one snare\n",
    "'''\n",
    "plt.plot(t_plot, snare_f_rad_arr_all[:,isnare], color='g', label='Radial SNARE force')\n",
    "#plt.plot(-(linker_up_f_rad_arr_all[:,isnare]), bins=np.arange(-100,101,2), density=True, alpha=0.4, color='b', label='Top radial linker force')\n",
    "#plt.plot(-(linker_dn_f_rad_arr_all[:,isnare]), bins=np.arange(-100,101,2), density=True, alpha=0.4, color='r', label='Bottom radial linker force')\n",
    "plt.plot(t_plot, (linker_f_rad_arr_all[:,isnare]), color='b', label='Total radial linker force')\n",
    "#plt.plot(t_plot, -(linker_f_theta_arr_all[:,isnare]), color='r', label='Total tangential linker force')\n",
    "plt.xlabel('Time (microsec)', fontdict=font_axis)\n",
    "plt.ylabel('Force(pN)', fontdict=font_axis)\n",
    "plt.title('Radial linker force', fontdict=font_title)\n",
    "plt.xlim(0, 4)\n",
    "plt.ylim(0,40)\n",
    "#plt.ylim(-60,20)\n",
    "#plt.legend()\n",
    "plt.show()\n",
    "'''"
   ]
  },
  {
   "cell_type": "code",
   "execution_count": null,
   "metadata": {},
   "outputs": [],
   "source": []
  }
 ],
 "metadata": {
  "kernelspec": {
   "display_name": "base",
   "language": "python",
   "name": "python3"
  },
  "language_info": {
   "codemirror_mode": {
    "name": "ipython",
    "version": 3
   },
   "file_extension": ".py",
   "mimetype": "text/x-python",
   "name": "python",
   "nbconvert_exporter": "python",
   "pygments_lexer": "ipython3",
   "version": "3.9.19"
  },
  "orig_nbformat": 4
 },
 "nbformat": 4,
 "nbformat_minor": 2
}
